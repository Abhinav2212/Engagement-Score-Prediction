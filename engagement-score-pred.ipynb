{
 "cells": [
  {
   "cell_type": "code",
   "execution_count": 1,
   "id": "02c6c606",
   "metadata": {
    "_cell_guid": "b1076dfc-b9ad-4769-8c92-a6c4dae69d19",
    "_uuid": "8f2839f25d086af736a60e9eeb907d3b93b6e0e5",
    "execution": {
     "iopub.execute_input": "2022-02-23T06:02:59.570887Z",
     "iopub.status.busy": "2022-02-23T06:02:59.570136Z",
     "iopub.status.idle": "2022-02-23T06:02:59.579935Z",
     "shell.execute_reply": "2022-02-23T06:02:59.580494Z",
     "shell.execute_reply.started": "2022-02-13T16:54:31.997486Z"
    },
    "papermill": {
     "duration": 0.077256,
     "end_time": "2022-02-23T06:02:59.580764",
     "exception": false,
     "start_time": "2022-02-23T06:02:59.503508",
     "status": "completed"
    },
    "tags": []
   },
   "outputs": [
    {
     "name": "stdout",
     "output_type": "stream",
     "text": [
      "/kaggle/input/engagement-score-prediction/test_1zqHu22.csv\n",
      "/kaggle/input/engagement-score-prediction/sample_submission_JPlpRcN.csv\n",
      "/kaggle/input/engagement-score-prediction/train_0OECtn8.csv\n"
     ]
    }
   ],
   "source": [
    "# This Python 3 environment comes with many helpful analytics libraries installed\n",
    "# It is defined by the kaggle/python Docker image: https://github.com/kaggle/docker-python\n",
    "# For example, here's several helpful packages to load\n",
    "\n",
    "import numpy as np # linear algebra\n",
    "import pandas as pd # data processing, CSV file I/O (e.g. pd.read_csv)\n",
    "\n",
    "# Input data files are available in the read-only \"../input/\" directory\n",
    "# For example, running this (by clicking run or pressing Shift+Enter) will list all files under the input directory\n",
    "\n",
    "import os\n",
    "for dirname, _, filenames in os.walk('/kaggle/input'):\n",
    "    for filename in filenames:\n",
    "        print(os.path.join(dirname, filename))\n",
    "\n",
    "# You can write up to 20GB to the current directory (/kaggle/working/) that gets preserved as output when you create a version using \"Save & Run All\" \n",
    "# You can also write temporary files to /kaggle/temp/, but they won't be saved outside of the current session"
   ]
  },
  {
   "cell_type": "code",
   "execution_count": 2,
   "id": "f87527fb",
   "metadata": {
    "execution": {
     "iopub.execute_input": "2022-02-23T06:02:59.693633Z",
     "iopub.status.busy": "2022-02-23T06:02:59.692923Z",
     "iopub.status.idle": "2022-02-23T06:03:00.836270Z",
     "shell.execute_reply": "2022-02-23T06:03:00.835150Z",
     "shell.execute_reply.started": "2022-02-13T16:54:32.010344Z"
    },
    "papermill": {
     "duration": 1.202339,
     "end_time": "2022-02-23T06:03:00.836423",
     "exception": false,
     "start_time": "2022-02-23T06:02:59.634084",
     "status": "completed"
    },
    "tags": []
   },
   "outputs": [],
   "source": [
    "data = pd.read_csv(\"../input/engagement-score-prediction/train_0OECtn8.csv\")\n",
    "data.head()\n",
    "import warnings\n",
    "warnings.filterwarnings('ignore')\n",
    "import matplotlib.pyplot as plt\n",
    "import seaborn as sns"
   ]
  },
  {
   "cell_type": "code",
   "execution_count": 3,
   "id": "3d46b018",
   "metadata": {
    "execution": {
     "iopub.execute_input": "2022-02-23T06:03:00.945896Z",
     "iopub.status.busy": "2022-02-23T06:03:00.945225Z",
     "iopub.status.idle": "2022-02-23T06:03:00.991673Z",
     "shell.execute_reply": "2022-02-23T06:03:00.992143Z",
     "shell.execute_reply.started": "2022-02-13T16:54:32.121731Z"
    },
    "papermill": {
     "duration": 0.102088,
     "end_time": "2022-02-23T06:03:00.992321",
     "exception": false,
     "start_time": "2022-02-23T06:03:00.890233",
     "status": "completed"
    },
    "tags": []
   },
   "outputs": [
    {
     "name": "stdout",
     "output_type": "stream",
     "text": [
      "<class 'pandas.core.frame.DataFrame'>\n",
      "RangeIndex: 89197 entries, 0 to 89196\n",
      "Data columns (total 10 columns):\n",
      " #   Column            Non-Null Count  Dtype  \n",
      "---  ------            --------------  -----  \n",
      " 0   row_id            89197 non-null  int64  \n",
      " 1   user_id           89197 non-null  int64  \n",
      " 2   category_id       89197 non-null  int64  \n",
      " 3   video_id          89197 non-null  int64  \n",
      " 4   age               89197 non-null  int64  \n",
      " 5   gender            89197 non-null  object \n",
      " 6   profession        89197 non-null  object \n",
      " 7   followers         89197 non-null  int64  \n",
      " 8   views             89197 non-null  int64  \n",
      " 9   engagement_score  89197 non-null  float64\n",
      "dtypes: float64(1), int64(7), object(2)\n",
      "memory usage: 6.8+ MB\n"
     ]
    }
   ],
   "source": [
    "data.info()"
   ]
  },
  {
   "cell_type": "code",
   "execution_count": 4,
   "id": "8dc8b044",
   "metadata": {
    "execution": {
     "iopub.execute_input": "2022-02-23T06:03:01.103424Z",
     "iopub.status.busy": "2022-02-23T06:03:01.102735Z",
     "iopub.status.idle": "2022-02-23T06:03:01.130928Z",
     "shell.execute_reply": "2022-02-23T06:03:01.131465Z",
     "shell.execute_reply.started": "2022-02-13T16:54:32.147968Z"
    },
    "papermill": {
     "duration": 0.085135,
     "end_time": "2022-02-23T06:03:01.131627",
     "exception": false,
     "start_time": "2022-02-23T06:03:01.046492",
     "status": "completed"
    },
    "tags": []
   },
   "outputs": [
    {
     "data": {
      "text/plain": [
       "row_id              0\n",
       "user_id             0\n",
       "category_id         0\n",
       "video_id            0\n",
       "age                 0\n",
       "gender              0\n",
       "profession          0\n",
       "followers           0\n",
       "views               0\n",
       "engagement_score    0\n",
       "dtype: int64"
      ]
     },
     "execution_count": 4,
     "metadata": {},
     "output_type": "execute_result"
    }
   ],
   "source": [
    "data.isnull().sum()"
   ]
  },
  {
   "cell_type": "code",
   "execution_count": 5,
   "id": "a123a51e",
   "metadata": {
    "execution": {
     "iopub.execute_input": "2022-02-23T06:03:01.249595Z",
     "iopub.status.busy": "2022-02-23T06:03:01.247112Z",
     "iopub.status.idle": "2022-02-23T06:03:01.251552Z",
     "shell.execute_reply": "2022-02-23T06:03:01.252168Z",
     "shell.execute_reply.started": "2022-02-13T16:54:32.169201Z"
    },
    "papermill": {
     "duration": 0.067776,
     "end_time": "2022-02-23T06:03:01.252338",
     "exception": false,
     "start_time": "2022-02-23T06:03:01.184562",
     "status": "completed"
    },
    "tags": []
   },
   "outputs": [],
   "source": [
    "data = data.drop([\"row_id\"],axis=1)"
   ]
  },
  {
   "cell_type": "code",
   "execution_count": 6,
   "id": "8da1257d",
   "metadata": {
    "execution": {
     "iopub.execute_input": "2022-02-23T06:03:01.364714Z",
     "iopub.status.busy": "2022-02-23T06:03:01.363687Z",
     "iopub.status.idle": "2022-02-23T06:03:01.418974Z",
     "shell.execute_reply": "2022-02-23T06:03:01.419510Z",
     "shell.execute_reply.started": "2022-02-13T16:54:32.180802Z"
    },
    "papermill": {
     "duration": 0.113949,
     "end_time": "2022-02-23T06:03:01.419675",
     "exception": false,
     "start_time": "2022-02-23T06:03:01.305726",
     "status": "completed"
    },
    "tags": []
   },
   "outputs": [
    {
     "data": {
      "text/html": [
       "<div>\n",
       "<style scoped>\n",
       "    .dataframe tbody tr th:only-of-type {\n",
       "        vertical-align: middle;\n",
       "    }\n",
       "\n",
       "    .dataframe tbody tr th {\n",
       "        vertical-align: top;\n",
       "    }\n",
       "\n",
       "    .dataframe thead th {\n",
       "        text-align: right;\n",
       "    }\n",
       "</style>\n",
       "<table border=\"1\" class=\"dataframe\">\n",
       "  <thead>\n",
       "    <tr style=\"text-align: right;\">\n",
       "      <th></th>\n",
       "      <th>user_id</th>\n",
       "      <th>category_id</th>\n",
       "      <th>video_id</th>\n",
       "      <th>age</th>\n",
       "      <th>followers</th>\n",
       "      <th>views</th>\n",
       "      <th>engagement_score</th>\n",
       "    </tr>\n",
       "  </thead>\n",
       "  <tbody>\n",
       "    <tr>\n",
       "      <th>count</th>\n",
       "      <td>89197.000000</td>\n",
       "      <td>89197.000000</td>\n",
       "      <td>89197.000000</td>\n",
       "      <td>89197.000000</td>\n",
       "      <td>89197.000000</td>\n",
       "      <td>89197.000000</td>\n",
       "      <td>89197.000000</td>\n",
       "    </tr>\n",
       "    <tr>\n",
       "      <th>mean</th>\n",
       "      <td>13881.909806</td>\n",
       "      <td>18.323733</td>\n",
       "      <td>77.715383</td>\n",
       "      <td>24.848616</td>\n",
       "      <td>252.460172</td>\n",
       "      <td>502.980268</td>\n",
       "      <td>3.487797</td>\n",
       "    </tr>\n",
       "    <tr>\n",
       "      <th>std</th>\n",
       "      <td>8005.582771</td>\n",
       "      <td>11.675154</td>\n",
       "      <td>48.469656</td>\n",
       "      <td>8.955535</td>\n",
       "      <td>46.094468</td>\n",
       "      <td>268.569482</td>\n",
       "      <td>0.863498</td>\n",
       "    </tr>\n",
       "    <tr>\n",
       "      <th>min</th>\n",
       "      <td>1.000000</td>\n",
       "      <td>1.000000</td>\n",
       "      <td>1.000000</td>\n",
       "      <td>10.000000</td>\n",
       "      <td>160.000000</td>\n",
       "      <td>30.000000</td>\n",
       "      <td>0.000000</td>\n",
       "    </tr>\n",
       "    <tr>\n",
       "      <th>25%</th>\n",
       "      <td>6945.000000</td>\n",
       "      <td>8.000000</td>\n",
       "      <td>34.000000</td>\n",
       "      <td>18.000000</td>\n",
       "      <td>230.000000</td>\n",
       "      <td>229.000000</td>\n",
       "      <td>2.900000</td>\n",
       "    </tr>\n",
       "    <tr>\n",
       "      <th>50%</th>\n",
       "      <td>13892.000000</td>\n",
       "      <td>16.000000</td>\n",
       "      <td>76.000000</td>\n",
       "      <td>23.000000</td>\n",
       "      <td>240.000000</td>\n",
       "      <td>467.000000</td>\n",
       "      <td>3.710000</td>\n",
       "    </tr>\n",
       "    <tr>\n",
       "      <th>75%</th>\n",
       "      <td>20819.000000</td>\n",
       "      <td>26.000000</td>\n",
       "      <td>120.000000</td>\n",
       "      <td>32.000000</td>\n",
       "      <td>280.000000</td>\n",
       "      <td>714.000000</td>\n",
       "      <td>4.150000</td>\n",
       "    </tr>\n",
       "    <tr>\n",
       "      <th>max</th>\n",
       "      <td>27734.000000</td>\n",
       "      <td>47.000000</td>\n",
       "      <td>175.000000</td>\n",
       "      <td>68.000000</td>\n",
       "      <td>360.000000</td>\n",
       "      <td>1000.000000</td>\n",
       "      <td>5.000000</td>\n",
       "    </tr>\n",
       "  </tbody>\n",
       "</table>\n",
       "</div>"
      ],
      "text/plain": [
       "            user_id   category_id      video_id           age     followers  \\\n",
       "count  89197.000000  89197.000000  89197.000000  89197.000000  89197.000000   \n",
       "mean   13881.909806     18.323733     77.715383     24.848616    252.460172   \n",
       "std     8005.582771     11.675154     48.469656      8.955535     46.094468   \n",
       "min        1.000000      1.000000      1.000000     10.000000    160.000000   \n",
       "25%     6945.000000      8.000000     34.000000     18.000000    230.000000   \n",
       "50%    13892.000000     16.000000     76.000000     23.000000    240.000000   \n",
       "75%    20819.000000     26.000000    120.000000     32.000000    280.000000   \n",
       "max    27734.000000     47.000000    175.000000     68.000000    360.000000   \n",
       "\n",
       "              views  engagement_score  \n",
       "count  89197.000000      89197.000000  \n",
       "mean     502.980268          3.487797  \n",
       "std      268.569482          0.863498  \n",
       "min       30.000000          0.000000  \n",
       "25%      229.000000          2.900000  \n",
       "50%      467.000000          3.710000  \n",
       "75%      714.000000          4.150000  \n",
       "max     1000.000000          5.000000  "
      ]
     },
     "execution_count": 6,
     "metadata": {},
     "output_type": "execute_result"
    }
   ],
   "source": [
    "data.describe()"
   ]
  },
  {
   "cell_type": "code",
   "execution_count": 7,
   "id": "37671668",
   "metadata": {
    "execution": {
     "iopub.execute_input": "2022-02-23T06:03:01.533313Z",
     "iopub.status.busy": "2022-02-23T06:03:01.532685Z",
     "iopub.status.idle": "2022-02-23T06:03:01.538564Z",
     "shell.execute_reply": "2022-02-23T06:03:01.539077Z",
     "shell.execute_reply.started": "2022-02-13T16:54:32.245572Z"
    },
    "papermill": {
     "duration": 0.065605,
     "end_time": "2022-02-23T06:03:01.539258",
     "exception": false,
     "start_time": "2022-02-23T06:03:01.473653",
     "status": "completed"
    },
    "tags": []
   },
   "outputs": [],
   "source": [
    "percentile25 = data[\"age\"].quantile(0.25)\n",
    "percentile75 = data[\"age\"].quantile(0.75)"
   ]
  },
  {
   "cell_type": "code",
   "execution_count": 8,
   "id": "81cde645",
   "metadata": {
    "execution": {
     "iopub.execute_input": "2022-02-23T06:03:01.649856Z",
     "iopub.status.busy": "2022-02-23T06:03:01.649256Z",
     "iopub.status.idle": "2022-02-23T06:03:01.652890Z",
     "shell.execute_reply": "2022-02-23T06:03:01.653483Z",
     "shell.execute_reply.started": "2022-02-13T16:54:32.258106Z"
    },
    "papermill": {
     "duration": 0.060711,
     "end_time": "2022-02-23T06:03:01.653661",
     "exception": false,
     "start_time": "2022-02-23T06:03:01.592950",
     "status": "completed"
    },
    "tags": []
   },
   "outputs": [
    {
     "name": "stdout",
     "output_type": "stream",
     "text": [
      "14.0\n"
     ]
    }
   ],
   "source": [
    "iqr = percentile75 - percentile25\n",
    "print(iqr)"
   ]
  },
  {
   "cell_type": "code",
   "execution_count": 9,
   "id": "7a7586f1",
   "metadata": {
    "execution": {
     "iopub.execute_input": "2022-02-23T06:03:01.788976Z",
     "iopub.status.busy": "2022-02-23T06:03:01.788009Z",
     "iopub.status.idle": "2022-02-23T06:03:01.791124Z",
     "shell.execute_reply": "2022-02-23T06:03:01.791888Z",
     "shell.execute_reply.started": "2022-02-13T16:54:32.267749Z"
    },
    "papermill": {
     "duration": 0.074045,
     "end_time": "2022-02-23T06:03:01.792128",
     "exception": false,
     "start_time": "2022-02-23T06:03:01.718083",
     "status": "completed"
    },
    "tags": []
   },
   "outputs": [],
   "source": [
    "upper_limit = percentile75 + 1.5 * iqr\n",
    "lower_limit = percentile25 - 1.5 * iqr"
   ]
  },
  {
   "cell_type": "code",
   "execution_count": 10,
   "id": "b9fd80f4",
   "metadata": {
    "execution": {
     "iopub.execute_input": "2022-02-23T06:03:01.924386Z",
     "iopub.status.busy": "2022-02-23T06:03:01.923434Z",
     "iopub.status.idle": "2022-02-23T06:03:01.950546Z",
     "shell.execute_reply": "2022-02-23T06:03:01.951001Z",
     "shell.execute_reply.started": "2022-02-13T16:54:32.28056Z"
    },
    "papermill": {
     "duration": 0.097574,
     "end_time": "2022-02-23T06:03:01.951188",
     "exception": false,
     "start_time": "2022-02-23T06:03:01.853614",
     "status": "completed"
    },
    "tags": []
   },
   "outputs": [
    {
     "data": {
      "text/html": [
       "<div>\n",
       "<style scoped>\n",
       "    .dataframe tbody tr th:only-of-type {\n",
       "        vertical-align: middle;\n",
       "    }\n",
       "\n",
       "    .dataframe tbody tr th {\n",
       "        vertical-align: top;\n",
       "    }\n",
       "\n",
       "    .dataframe thead th {\n",
       "        text-align: right;\n",
       "    }\n",
       "</style>\n",
       "<table border=\"1\" class=\"dataframe\">\n",
       "  <thead>\n",
       "    <tr style=\"text-align: right;\">\n",
       "      <th></th>\n",
       "      <th>user_id</th>\n",
       "      <th>category_id</th>\n",
       "      <th>video_id</th>\n",
       "      <th>age</th>\n",
       "      <th>gender</th>\n",
       "      <th>profession</th>\n",
       "      <th>followers</th>\n",
       "      <th>views</th>\n",
       "      <th>engagement_score</th>\n",
       "    </tr>\n",
       "  </thead>\n",
       "  <tbody>\n",
       "    <tr>\n",
       "      <th>0</th>\n",
       "      <td>19990</td>\n",
       "      <td>37</td>\n",
       "      <td>128</td>\n",
       "      <td>24</td>\n",
       "      <td>Male</td>\n",
       "      <td>Student</td>\n",
       "      <td>180</td>\n",
       "      <td>1000</td>\n",
       "      <td>4.33</td>\n",
       "    </tr>\n",
       "    <tr>\n",
       "      <th>1</th>\n",
       "      <td>5304</td>\n",
       "      <td>32</td>\n",
       "      <td>132</td>\n",
       "      <td>14</td>\n",
       "      <td>Female</td>\n",
       "      <td>Student</td>\n",
       "      <td>330</td>\n",
       "      <td>714</td>\n",
       "      <td>1.79</td>\n",
       "    </tr>\n",
       "    <tr>\n",
       "      <th>2</th>\n",
       "      <td>1840</td>\n",
       "      <td>12</td>\n",
       "      <td>24</td>\n",
       "      <td>19</td>\n",
       "      <td>Male</td>\n",
       "      <td>Student</td>\n",
       "      <td>180</td>\n",
       "      <td>138</td>\n",
       "      <td>4.35</td>\n",
       "    </tr>\n",
       "    <tr>\n",
       "      <th>3</th>\n",
       "      <td>12597</td>\n",
       "      <td>23</td>\n",
       "      <td>112</td>\n",
       "      <td>19</td>\n",
       "      <td>Male</td>\n",
       "      <td>Student</td>\n",
       "      <td>220</td>\n",
       "      <td>613</td>\n",
       "      <td>3.77</td>\n",
       "    </tr>\n",
       "    <tr>\n",
       "      <th>4</th>\n",
       "      <td>13626</td>\n",
       "      <td>23</td>\n",
       "      <td>112</td>\n",
       "      <td>27</td>\n",
       "      <td>Male</td>\n",
       "      <td>Working Professional</td>\n",
       "      <td>220</td>\n",
       "      <td>613</td>\n",
       "      <td>3.13</td>\n",
       "    </tr>\n",
       "    <tr>\n",
       "      <th>...</th>\n",
       "      <td>...</td>\n",
       "      <td>...</td>\n",
       "      <td>...</td>\n",
       "      <td>...</td>\n",
       "      <td>...</td>\n",
       "      <td>...</td>\n",
       "      <td>...</td>\n",
       "      <td>...</td>\n",
       "      <td>...</td>\n",
       "    </tr>\n",
       "    <tr>\n",
       "      <th>89192</th>\n",
       "      <td>23996</td>\n",
       "      <td>15</td>\n",
       "      <td>32</td>\n",
       "      <td>25</td>\n",
       "      <td>Male</td>\n",
       "      <td>Other</td>\n",
       "      <td>340</td>\n",
       "      <td>662</td>\n",
       "      <td>3.91</td>\n",
       "    </tr>\n",
       "    <tr>\n",
       "      <th>89193</th>\n",
       "      <td>20466</td>\n",
       "      <td>20</td>\n",
       "      <td>47</td>\n",
       "      <td>31</td>\n",
       "      <td>Male</td>\n",
       "      <td>Other</td>\n",
       "      <td>240</td>\n",
       "      <td>892</td>\n",
       "      <td>3.56</td>\n",
       "    </tr>\n",
       "    <tr>\n",
       "      <th>89194</th>\n",
       "      <td>13655</td>\n",
       "      <td>16</td>\n",
       "      <td>97</td>\n",
       "      <td>25</td>\n",
       "      <td>Male</td>\n",
       "      <td>Student</td>\n",
       "      <td>270</td>\n",
       "      <td>462</td>\n",
       "      <td>4.23</td>\n",
       "    </tr>\n",
       "    <tr>\n",
       "      <th>89195</th>\n",
       "      <td>24840</td>\n",
       "      <td>9</td>\n",
       "      <td>18</td>\n",
       "      <td>35</td>\n",
       "      <td>Male</td>\n",
       "      <td>Working Professional</td>\n",
       "      <td>230</td>\n",
       "      <td>819</td>\n",
       "      <td>3.77</td>\n",
       "    </tr>\n",
       "    <tr>\n",
       "      <th>89196</th>\n",
       "      <td>27183</td>\n",
       "      <td>25</td>\n",
       "      <td>150</td>\n",
       "      <td>13</td>\n",
       "      <td>Male</td>\n",
       "      <td>Student</td>\n",
       "      <td>240</td>\n",
       "      <td>317</td>\n",
       "      <td>4.31</td>\n",
       "    </tr>\n",
       "  </tbody>\n",
       "</table>\n",
       "<p>89197 rows × 9 columns</p>\n",
       "</div>"
      ],
      "text/plain": [
       "       user_id  category_id  video_id  age  gender            profession  \\\n",
       "0        19990           37       128   24    Male               Student   \n",
       "1         5304           32       132   14  Female               Student   \n",
       "2         1840           12        24   19    Male               Student   \n",
       "3        12597           23       112   19    Male               Student   \n",
       "4        13626           23       112   27    Male  Working Professional   \n",
       "...        ...          ...       ...  ...     ...                   ...   \n",
       "89192    23996           15        32   25    Male                 Other   \n",
       "89193    20466           20        47   31    Male                 Other   \n",
       "89194    13655           16        97   25    Male               Student   \n",
       "89195    24840            9        18   35    Male  Working Professional   \n",
       "89196    27183           25       150   13    Male               Student   \n",
       "\n",
       "       followers  views  engagement_score  \n",
       "0            180   1000              4.33  \n",
       "1            330    714              1.79  \n",
       "2            180    138              4.35  \n",
       "3            220    613              3.77  \n",
       "4            220    613              3.13  \n",
       "...          ...    ...               ...  \n",
       "89192        340    662              3.91  \n",
       "89193        240    892              3.56  \n",
       "89194        270    462              4.23  \n",
       "89195        230    819              3.77  \n",
       "89196        240    317              4.31  \n",
       "\n",
       "[89197 rows x 9 columns]"
      ]
     },
     "execution_count": 10,
     "metadata": {},
     "output_type": "execute_result"
    }
   ],
   "source": [
    "data[data['age'] < upper_limit]\n",
    "data[data['age'] > lower_limit]"
   ]
  },
  {
   "cell_type": "code",
   "execution_count": 11,
   "id": "a19bd052",
   "metadata": {
    "execution": {
     "iopub.execute_input": "2022-02-23T06:03:02.081835Z",
     "iopub.status.busy": "2022-02-23T06:03:02.080864Z",
     "iopub.status.idle": "2022-02-23T06:03:02.100575Z",
     "shell.execute_reply": "2022-02-23T06:03:02.101100Z",
     "shell.execute_reply.started": "2022-02-13T16:54:32.316243Z"
    },
    "papermill": {
     "duration": 0.091449,
     "end_time": "2022-02-23T06:03:02.101273",
     "exception": false,
     "start_time": "2022-02-23T06:03:02.009824",
     "status": "completed"
    },
    "tags": []
   },
   "outputs": [
    {
     "data": {
      "text/html": [
       "<div>\n",
       "<style scoped>\n",
       "    .dataframe tbody tr th:only-of-type {\n",
       "        vertical-align: middle;\n",
       "    }\n",
       "\n",
       "    .dataframe tbody tr th {\n",
       "        vertical-align: top;\n",
       "    }\n",
       "\n",
       "    .dataframe thead th {\n",
       "        text-align: right;\n",
       "    }\n",
       "</style>\n",
       "<table border=\"1\" class=\"dataframe\">\n",
       "  <thead>\n",
       "    <tr style=\"text-align: right;\">\n",
       "      <th></th>\n",
       "      <th>user_id</th>\n",
       "      <th>category_id</th>\n",
       "      <th>video_id</th>\n",
       "      <th>age</th>\n",
       "      <th>gender</th>\n",
       "      <th>profession</th>\n",
       "      <th>followers</th>\n",
       "      <th>views</th>\n",
       "      <th>engagement_score</th>\n",
       "    </tr>\n",
       "  </thead>\n",
       "  <tbody>\n",
       "    <tr>\n",
       "      <th>0</th>\n",
       "      <td>19990</td>\n",
       "      <td>37</td>\n",
       "      <td>128</td>\n",
       "      <td>24</td>\n",
       "      <td>Male</td>\n",
       "      <td>Student</td>\n",
       "      <td>180</td>\n",
       "      <td>1000</td>\n",
       "      <td>4.33</td>\n",
       "    </tr>\n",
       "    <tr>\n",
       "      <th>1</th>\n",
       "      <td>5304</td>\n",
       "      <td>32</td>\n",
       "      <td>132</td>\n",
       "      <td>14</td>\n",
       "      <td>Female</td>\n",
       "      <td>Student</td>\n",
       "      <td>330</td>\n",
       "      <td>714</td>\n",
       "      <td>1.79</td>\n",
       "    </tr>\n",
       "    <tr>\n",
       "      <th>2</th>\n",
       "      <td>1840</td>\n",
       "      <td>12</td>\n",
       "      <td>24</td>\n",
       "      <td>19</td>\n",
       "      <td>Male</td>\n",
       "      <td>Student</td>\n",
       "      <td>180</td>\n",
       "      <td>138</td>\n",
       "      <td>4.35</td>\n",
       "    </tr>\n",
       "    <tr>\n",
       "      <th>3</th>\n",
       "      <td>12597</td>\n",
       "      <td>23</td>\n",
       "      <td>112</td>\n",
       "      <td>19</td>\n",
       "      <td>Male</td>\n",
       "      <td>Student</td>\n",
       "      <td>220</td>\n",
       "      <td>613</td>\n",
       "      <td>3.77</td>\n",
       "    </tr>\n",
       "    <tr>\n",
       "      <th>4</th>\n",
       "      <td>13626</td>\n",
       "      <td>23</td>\n",
       "      <td>112</td>\n",
       "      <td>27</td>\n",
       "      <td>Male</td>\n",
       "      <td>Working Professional</td>\n",
       "      <td>220</td>\n",
       "      <td>613</td>\n",
       "      <td>3.13</td>\n",
       "    </tr>\n",
       "  </tbody>\n",
       "</table>\n",
       "</div>"
      ],
      "text/plain": [
       "   user_id  category_id  video_id  age  gender            profession  \\\n",
       "0    19990           37       128   24    Male               Student   \n",
       "1     5304           32       132   14  Female               Student   \n",
       "2     1840           12        24   19    Male               Student   \n",
       "3    12597           23       112   19    Male               Student   \n",
       "4    13626           23       112   27    Male  Working Professional   \n",
       "\n",
       "   followers  views  engagement_score  \n",
       "0        180   1000              4.33  \n",
       "1        330    714              1.79  \n",
       "2        180    138              4.35  \n",
       "3        220    613              3.77  \n",
       "4        220    613              3.13  "
      ]
     },
     "execution_count": 11,
     "metadata": {},
     "output_type": "execute_result"
    }
   ],
   "source": [
    "new_df = data[data['age'] < upper_limit]\n",
    "new_df.head()"
   ]
  },
  {
   "cell_type": "code",
   "execution_count": 12,
   "id": "b6e79c21",
   "metadata": {
    "execution": {
     "iopub.execute_input": "2022-02-23T06:03:02.217526Z",
     "iopub.status.busy": "2022-02-23T06:03:02.216569Z",
     "iopub.status.idle": "2022-02-23T06:03:03.646556Z",
     "shell.execute_reply": "2022-02-23T06:03:03.646047Z",
     "shell.execute_reply.started": "2022-02-13T16:54:32.338582Z"
    },
    "papermill": {
     "duration": 1.489115,
     "end_time": "2022-02-23T06:03:03.646687",
     "exception": false,
     "start_time": "2022-02-23T06:03:02.157572",
     "status": "completed"
    },
    "tags": []
   },
   "outputs": [
    {
     "data": {
      "image/png": "[encoded data removed]",
      "text/plain": [
       "<Figure size 1152x360 with 4 Axes>"
      ]
     },
     "metadata": {
      "needs_background": "light"
     },
     "output_type": "display_data"
    }
   ],
   "source": [
    "plt.figure(figsize=(16,5))\n",
    "plt.subplot(2,2,1)\n",
    "sns.distplot(data['age'])\n",
    "plt.subplot(2,2,2)\n",
    "sns.boxplot(data[\"age\"])\n",
    "\n",
    "plt.subplot(2,2,3)\n",
    "sns.distplot(new_df[\"age\"])\n",
    "plt.subplot(2,2,4)\n",
    "sns.boxplot(new_df[\"age\"])\n",
    "\n",
    "plt.show()\n"
   ]
  },
  {
   "cell_type": "code",
   "execution_count": 13,
   "id": "f547767b",
   "metadata": {
    "execution": {
     "iopub.execute_input": "2022-02-23T06:03:03.765244Z",
     "iopub.status.busy": "2022-02-23T06:03:03.764561Z",
     "iopub.status.idle": "2022-02-23T06:03:03.771979Z",
     "shell.execute_reply": "2022-02-23T06:03:03.772695Z",
     "shell.execute_reply.started": "2022-02-13T16:54:33.83469Z"
    },
    "papermill": {
     "duration": 0.069941,
     "end_time": "2022-02-23T06:03:03.772909",
     "exception": false,
     "start_time": "2022-02-23T06:03:03.702968",
     "status": "completed"
    },
    "tags": []
   },
   "outputs": [
    {
     "name": "stdout",
     "output_type": "stream",
     "text": [
      "50.0\n"
     ]
    }
   ],
   "source": [
    "percentile25 = data[\"followers\"].quantile(0.25)\n",
    "percentile75 = data[\"followers\"].quantile(0.75)\n",
    "iqr = percentile75 - percentile25\n",
    "print(iqr)"
   ]
  },
  {
   "cell_type": "code",
   "execution_count": 14,
   "id": "70119a60",
   "metadata": {
    "execution": {
     "iopub.execute_input": "2022-02-23T06:03:03.890790Z",
     "iopub.status.busy": "2022-02-23T06:03:03.890142Z",
     "iopub.status.idle": "2022-02-23T06:03:03.917012Z",
     "shell.execute_reply": "2022-02-23T06:03:03.917613Z",
     "shell.execute_reply.started": "2022-02-13T16:54:33.849103Z"
    },
    "papermill": {
     "duration": 0.087368,
     "end_time": "2022-02-23T06:03:03.917778",
     "exception": false,
     "start_time": "2022-02-23T06:03:03.830410",
     "status": "completed"
    },
    "tags": []
   },
   "outputs": [
    {
     "data": {
      "text/html": [
       "<div>\n",
       "<style scoped>\n",
       "    .dataframe tbody tr th:only-of-type {\n",
       "        vertical-align: middle;\n",
       "    }\n",
       "\n",
       "    .dataframe tbody tr th {\n",
       "        vertical-align: top;\n",
       "    }\n",
       "\n",
       "    .dataframe thead th {\n",
       "        text-align: right;\n",
       "    }\n",
       "</style>\n",
       "<table border=\"1\" class=\"dataframe\">\n",
       "  <thead>\n",
       "    <tr style=\"text-align: right;\">\n",
       "      <th></th>\n",
       "      <th>user_id</th>\n",
       "      <th>category_id</th>\n",
       "      <th>video_id</th>\n",
       "      <th>age</th>\n",
       "      <th>gender</th>\n",
       "      <th>profession</th>\n",
       "      <th>followers</th>\n",
       "      <th>views</th>\n",
       "      <th>engagement_score</th>\n",
       "    </tr>\n",
       "  </thead>\n",
       "  <tbody>\n",
       "    <tr>\n",
       "      <th>0</th>\n",
       "      <td>19990</td>\n",
       "      <td>37</td>\n",
       "      <td>128</td>\n",
       "      <td>24</td>\n",
       "      <td>Male</td>\n",
       "      <td>Student</td>\n",
       "      <td>180</td>\n",
       "      <td>1000</td>\n",
       "      <td>4.33</td>\n",
       "    </tr>\n",
       "    <tr>\n",
       "      <th>1</th>\n",
       "      <td>5304</td>\n",
       "      <td>32</td>\n",
       "      <td>132</td>\n",
       "      <td>14</td>\n",
       "      <td>Female</td>\n",
       "      <td>Student</td>\n",
       "      <td>330</td>\n",
       "      <td>714</td>\n",
       "      <td>1.79</td>\n",
       "    </tr>\n",
       "    <tr>\n",
       "      <th>2</th>\n",
       "      <td>1840</td>\n",
       "      <td>12</td>\n",
       "      <td>24</td>\n",
       "      <td>19</td>\n",
       "      <td>Male</td>\n",
       "      <td>Student</td>\n",
       "      <td>180</td>\n",
       "      <td>138</td>\n",
       "      <td>4.35</td>\n",
       "    </tr>\n",
       "    <tr>\n",
       "      <th>3</th>\n",
       "      <td>12597</td>\n",
       "      <td>23</td>\n",
       "      <td>112</td>\n",
       "      <td>19</td>\n",
       "      <td>Male</td>\n",
       "      <td>Student</td>\n",
       "      <td>220</td>\n",
       "      <td>613</td>\n",
       "      <td>3.77</td>\n",
       "    </tr>\n",
       "    <tr>\n",
       "      <th>4</th>\n",
       "      <td>13626</td>\n",
       "      <td>23</td>\n",
       "      <td>112</td>\n",
       "      <td>27</td>\n",
       "      <td>Male</td>\n",
       "      <td>Working Professional</td>\n",
       "      <td>220</td>\n",
       "      <td>613</td>\n",
       "      <td>3.13</td>\n",
       "    </tr>\n",
       "    <tr>\n",
       "      <th>...</th>\n",
       "      <td>...</td>\n",
       "      <td>...</td>\n",
       "      <td>...</td>\n",
       "      <td>...</td>\n",
       "      <td>...</td>\n",
       "      <td>...</td>\n",
       "      <td>...</td>\n",
       "      <td>...</td>\n",
       "      <td>...</td>\n",
       "    </tr>\n",
       "    <tr>\n",
       "      <th>89192</th>\n",
       "      <td>23996</td>\n",
       "      <td>15</td>\n",
       "      <td>32</td>\n",
       "      <td>25</td>\n",
       "      <td>Male</td>\n",
       "      <td>Other</td>\n",
       "      <td>340</td>\n",
       "      <td>662</td>\n",
       "      <td>3.91</td>\n",
       "    </tr>\n",
       "    <tr>\n",
       "      <th>89193</th>\n",
       "      <td>20466</td>\n",
       "      <td>20</td>\n",
       "      <td>47</td>\n",
       "      <td>31</td>\n",
       "      <td>Male</td>\n",
       "      <td>Other</td>\n",
       "      <td>240</td>\n",
       "      <td>892</td>\n",
       "      <td>3.56</td>\n",
       "    </tr>\n",
       "    <tr>\n",
       "      <th>89194</th>\n",
       "      <td>13655</td>\n",
       "      <td>16</td>\n",
       "      <td>97</td>\n",
       "      <td>25</td>\n",
       "      <td>Male</td>\n",
       "      <td>Student</td>\n",
       "      <td>270</td>\n",
       "      <td>462</td>\n",
       "      <td>4.23</td>\n",
       "    </tr>\n",
       "    <tr>\n",
       "      <th>89195</th>\n",
       "      <td>24840</td>\n",
       "      <td>9</td>\n",
       "      <td>18</td>\n",
       "      <td>35</td>\n",
       "      <td>Male</td>\n",
       "      <td>Working Professional</td>\n",
       "      <td>230</td>\n",
       "      <td>819</td>\n",
       "      <td>3.77</td>\n",
       "    </tr>\n",
       "    <tr>\n",
       "      <th>89196</th>\n",
       "      <td>27183</td>\n",
       "      <td>25</td>\n",
       "      <td>150</td>\n",
       "      <td>13</td>\n",
       "      <td>Male</td>\n",
       "      <td>Student</td>\n",
       "      <td>240</td>\n",
       "      <td>317</td>\n",
       "      <td>4.31</td>\n",
       "    </tr>\n",
       "  </tbody>\n",
       "</table>\n",
       "<p>89197 rows × 9 columns</p>\n",
       "</div>"
      ],
      "text/plain": [
       "       user_id  category_id  video_id  age  gender            profession  \\\n",
       "0        19990           37       128   24    Male               Student   \n",
       "1         5304           32       132   14  Female               Student   \n",
       "2         1840           12        24   19    Male               Student   \n",
       "3        12597           23       112   19    Male               Student   \n",
       "4        13626           23       112   27    Male  Working Professional   \n",
       "...        ...          ...       ...  ...     ...                   ...   \n",
       "89192    23996           15        32   25    Male                 Other   \n",
       "89193    20466           20        47   31    Male                 Other   \n",
       "89194    13655           16        97   25    Male               Student   \n",
       "89195    24840            9        18   35    Male  Working Professional   \n",
       "89196    27183           25       150   13    Male               Student   \n",
       "\n",
       "       followers  views  engagement_score  \n",
       "0            180   1000              4.33  \n",
       "1            330    714              1.79  \n",
       "2            180    138              4.35  \n",
       "3            220    613              3.77  \n",
       "4            220    613              3.13  \n",
       "...          ...    ...               ...  \n",
       "89192        340    662              3.91  \n",
       "89193        240    892              3.56  \n",
       "89194        270    462              4.23  \n",
       "89195        230    819              3.77  \n",
       "89196        240    317              4.31  \n",
       "\n",
       "[89197 rows x 9 columns]"
      ]
     },
     "execution_count": 14,
     "metadata": {},
     "output_type": "execute_result"
    }
   ],
   "source": [
    "upper_limit = percentile75 + 1.5 * iqr\n",
    "lower_limit = percentile25 - 1.5 * iqr\n",
    "data[data['followers'] < upper_limit]\n",
    "data[data['followers'] > lower_limit]\n"
   ]
  },
  {
   "cell_type": "code",
   "execution_count": 15,
   "id": "60552132",
   "metadata": {
    "execution": {
     "iopub.execute_input": "2022-02-23T06:03:04.036262Z",
     "iopub.status.busy": "2022-02-23T06:03:04.035600Z",
     "iopub.status.idle": "2022-02-23T06:03:04.065322Z",
     "shell.execute_reply": "2022-02-23T06:03:04.064758Z",
     "shell.execute_reply.started": "2022-02-13T16:54:33.880304Z"
    },
    "papermill": {
     "duration": 0.089373,
     "end_time": "2022-02-23T06:03:04.065457",
     "exception": false,
     "start_time": "2022-02-23T06:03:03.976084",
     "status": "completed"
    },
    "tags": []
   },
   "outputs": [
    {
     "data": {
      "text/html": [
       "<div>\n",
       "<style scoped>\n",
       "    .dataframe tbody tr th:only-of-type {\n",
       "        vertical-align: middle;\n",
       "    }\n",
       "\n",
       "    .dataframe tbody tr th {\n",
       "        vertical-align: top;\n",
       "    }\n",
       "\n",
       "    .dataframe thead th {\n",
       "        text-align: right;\n",
       "    }\n",
       "</style>\n",
       "<table border=\"1\" class=\"dataframe\">\n",
       "  <thead>\n",
       "    <tr style=\"text-align: right;\">\n",
       "      <th></th>\n",
       "      <th>user_id</th>\n",
       "      <th>category_id</th>\n",
       "      <th>video_id</th>\n",
       "      <th>age</th>\n",
       "      <th>gender</th>\n",
       "      <th>profession</th>\n",
       "      <th>followers</th>\n",
       "      <th>views</th>\n",
       "      <th>engagement_score</th>\n",
       "    </tr>\n",
       "  </thead>\n",
       "  <tbody>\n",
       "    <tr>\n",
       "      <th>0</th>\n",
       "      <td>19990</td>\n",
       "      <td>37</td>\n",
       "      <td>128</td>\n",
       "      <td>24</td>\n",
       "      <td>Male</td>\n",
       "      <td>Student</td>\n",
       "      <td>180</td>\n",
       "      <td>1000</td>\n",
       "      <td>4.33</td>\n",
       "    </tr>\n",
       "    <tr>\n",
       "      <th>1</th>\n",
       "      <td>5304</td>\n",
       "      <td>32</td>\n",
       "      <td>132</td>\n",
       "      <td>14</td>\n",
       "      <td>Female</td>\n",
       "      <td>Student</td>\n",
       "      <td>330</td>\n",
       "      <td>714</td>\n",
       "      <td>1.79</td>\n",
       "    </tr>\n",
       "    <tr>\n",
       "      <th>2</th>\n",
       "      <td>1840</td>\n",
       "      <td>12</td>\n",
       "      <td>24</td>\n",
       "      <td>19</td>\n",
       "      <td>Male</td>\n",
       "      <td>Student</td>\n",
       "      <td>180</td>\n",
       "      <td>138</td>\n",
       "      <td>4.35</td>\n",
       "    </tr>\n",
       "    <tr>\n",
       "      <th>3</th>\n",
       "      <td>12597</td>\n",
       "      <td>23</td>\n",
       "      <td>112</td>\n",
       "      <td>19</td>\n",
       "      <td>Male</td>\n",
       "      <td>Student</td>\n",
       "      <td>220</td>\n",
       "      <td>613</td>\n",
       "      <td>3.77</td>\n",
       "    </tr>\n",
       "    <tr>\n",
       "      <th>4</th>\n",
       "      <td>13626</td>\n",
       "      <td>23</td>\n",
       "      <td>112</td>\n",
       "      <td>27</td>\n",
       "      <td>Male</td>\n",
       "      <td>Working Professional</td>\n",
       "      <td>220</td>\n",
       "      <td>613</td>\n",
       "      <td>3.13</td>\n",
       "    </tr>\n",
       "  </tbody>\n",
       "</table>\n",
       "</div>"
      ],
      "text/plain": [
       "   user_id  category_id  video_id  age  gender            profession  \\\n",
       "0    19990           37       128   24    Male               Student   \n",
       "1     5304           32       132   14  Female               Student   \n",
       "2     1840           12        24   19    Male               Student   \n",
       "3    12597           23       112   19    Male               Student   \n",
       "4    13626           23       112   27    Male  Working Professional   \n",
       "\n",
       "   followers  views  engagement_score  \n",
       "0        180   1000              4.33  \n",
       "1        330    714              1.79  \n",
       "2        180    138              4.35  \n",
       "3        220    613              3.77  \n",
       "4        220    613              3.13  "
      ]
     },
     "execution_count": 15,
     "metadata": {},
     "output_type": "execute_result"
    }
   ],
   "source": [
    "new_df = new_df[new_df['followers'] < upper_limit ]\n",
    "new_df = new_df[new_df['followers'] > lower_limit ]\n",
    "\n",
    "new_df.head()"
   ]
  },
  {
   "cell_type": "code",
   "execution_count": 16,
   "id": "ed91e33d",
   "metadata": {
    "execution": {
     "iopub.execute_input": "2022-02-23T06:03:04.185613Z",
     "iopub.status.busy": "2022-02-23T06:03:04.184870Z",
     "iopub.status.idle": "2022-02-23T06:03:05.484932Z",
     "shell.execute_reply": "2022-02-23T06:03:05.485486Z",
     "shell.execute_reply.started": "2022-02-13T16:54:33.904702Z"
    },
    "papermill": {
     "duration": 1.361416,
     "end_time": "2022-02-23T06:03:05.485659",
     "exception": false,
     "start_time": "2022-02-23T06:03:04.124243",
     "status": "completed"
    },
    "tags": []
   },
   "outputs": [
    {
     "data": {
      "image/png": "[encoded data removed]",
      "text/plain": [
       "<Figure size 1296x504 with 4 Axes>"
      ]
     },
     "metadata": {
      "needs_background": "light"
     },
     "output_type": "display_data"
    }
   ],
   "source": [
    "plt.figure(figsize=(18,7))\n",
    "plt.subplot(2,2,1)\n",
    "sns.distplot(data['followers'])\n",
    "plt.subplot(2,2,2)\n",
    "sns.boxplot(data[\"followers\"])\n",
    "\n",
    "plt.subplot(2,2,3)\n",
    "sns.distplot(new_df[\"followers\"])\n",
    "plt.subplot(2,2,4)\n",
    "sns.boxplot(new_df[\"followers\"])\n",
    "\n",
    "plt.show()"
   ]
  },
  {
   "cell_type": "markdown",
   "id": "2c2c6aeb",
   "metadata": {
    "papermill": {
     "duration": 0.059074,
     "end_time": "2022-02-23T06:03:05.605287",
     "exception": false,
     "start_time": "2022-02-23T06:03:05.546213",
     "status": "completed"
    },
    "tags": []
   },
   "source": [
    "Vews"
   ]
  },
  {
   "cell_type": "code",
   "execution_count": 17,
   "id": "a1a9f8b7",
   "metadata": {
    "execution": {
     "iopub.execute_input": "2022-02-23T06:03:05.728001Z",
     "iopub.status.busy": "2022-02-23T06:03:05.727362Z",
     "iopub.status.idle": "2022-02-23T06:03:05.737479Z",
     "shell.execute_reply": "2022-02-23T06:03:05.738197Z",
     "shell.execute_reply.started": "2022-02-13T16:54:35.176515Z"
    },
    "papermill": {
     "duration": 0.073433,
     "end_time": "2022-02-23T06:03:05.738431",
     "exception": false,
     "start_time": "2022-02-23T06:03:05.664998",
     "status": "completed"
    },
    "tags": []
   },
   "outputs": [
    {
     "name": "stdout",
     "output_type": "stream",
     "text": [
      "485.0\n"
     ]
    }
   ],
   "source": [
    "percentile25 = data[\"views\"].quantile(0.25)\n",
    "percentile75 = data[\"views\"].quantile(0.75)\n",
    "iqr = percentile75 - percentile25\n",
    "print(iqr)"
   ]
  },
  {
   "cell_type": "code",
   "execution_count": 18,
   "id": "be8ad4e9",
   "metadata": {
    "execution": {
     "iopub.execute_input": "2022-02-23T06:03:05.862973Z",
     "iopub.status.busy": "2022-02-23T06:03:05.862337Z",
     "iopub.status.idle": "2022-02-23T06:03:05.887535Z",
     "shell.execute_reply": "2022-02-23T06:03:05.887993Z",
     "shell.execute_reply.started": "2022-02-13T16:54:35.187586Z"
    },
    "papermill": {
     "duration": 0.088767,
     "end_time": "2022-02-23T06:03:05.888176",
     "exception": false,
     "start_time": "2022-02-23T06:03:05.799409",
     "status": "completed"
    },
    "tags": []
   },
   "outputs": [
    {
     "data": {
      "text/html": [
       "<div>\n",
       "<style scoped>\n",
       "    .dataframe tbody tr th:only-of-type {\n",
       "        vertical-align: middle;\n",
       "    }\n",
       "\n",
       "    .dataframe tbody tr th {\n",
       "        vertical-align: top;\n",
       "    }\n",
       "\n",
       "    .dataframe thead th {\n",
       "        text-align: right;\n",
       "    }\n",
       "</style>\n",
       "<table border=\"1\" class=\"dataframe\">\n",
       "  <thead>\n",
       "    <tr style=\"text-align: right;\">\n",
       "      <th></th>\n",
       "      <th>user_id</th>\n",
       "      <th>category_id</th>\n",
       "      <th>video_id</th>\n",
       "      <th>age</th>\n",
       "      <th>gender</th>\n",
       "      <th>profession</th>\n",
       "      <th>followers</th>\n",
       "      <th>views</th>\n",
       "      <th>engagement_score</th>\n",
       "    </tr>\n",
       "  </thead>\n",
       "  <tbody>\n",
       "    <tr>\n",
       "      <th>0</th>\n",
       "      <td>19990</td>\n",
       "      <td>37</td>\n",
       "      <td>128</td>\n",
       "      <td>24</td>\n",
       "      <td>Male</td>\n",
       "      <td>Student</td>\n",
       "      <td>180</td>\n",
       "      <td>1000</td>\n",
       "      <td>4.33</td>\n",
       "    </tr>\n",
       "    <tr>\n",
       "      <th>1</th>\n",
       "      <td>5304</td>\n",
       "      <td>32</td>\n",
       "      <td>132</td>\n",
       "      <td>14</td>\n",
       "      <td>Female</td>\n",
       "      <td>Student</td>\n",
       "      <td>330</td>\n",
       "      <td>714</td>\n",
       "      <td>1.79</td>\n",
       "    </tr>\n",
       "    <tr>\n",
       "      <th>2</th>\n",
       "      <td>1840</td>\n",
       "      <td>12</td>\n",
       "      <td>24</td>\n",
       "      <td>19</td>\n",
       "      <td>Male</td>\n",
       "      <td>Student</td>\n",
       "      <td>180</td>\n",
       "      <td>138</td>\n",
       "      <td>4.35</td>\n",
       "    </tr>\n",
       "    <tr>\n",
       "      <th>3</th>\n",
       "      <td>12597</td>\n",
       "      <td>23</td>\n",
       "      <td>112</td>\n",
       "      <td>19</td>\n",
       "      <td>Male</td>\n",
       "      <td>Student</td>\n",
       "      <td>220</td>\n",
       "      <td>613</td>\n",
       "      <td>3.77</td>\n",
       "    </tr>\n",
       "    <tr>\n",
       "      <th>4</th>\n",
       "      <td>13626</td>\n",
       "      <td>23</td>\n",
       "      <td>112</td>\n",
       "      <td>27</td>\n",
       "      <td>Male</td>\n",
       "      <td>Working Professional</td>\n",
       "      <td>220</td>\n",
       "      <td>613</td>\n",
       "      <td>3.13</td>\n",
       "    </tr>\n",
       "    <tr>\n",
       "      <th>...</th>\n",
       "      <td>...</td>\n",
       "      <td>...</td>\n",
       "      <td>...</td>\n",
       "      <td>...</td>\n",
       "      <td>...</td>\n",
       "      <td>...</td>\n",
       "      <td>...</td>\n",
       "      <td>...</td>\n",
       "      <td>...</td>\n",
       "    </tr>\n",
       "    <tr>\n",
       "      <th>89192</th>\n",
       "      <td>23996</td>\n",
       "      <td>15</td>\n",
       "      <td>32</td>\n",
       "      <td>25</td>\n",
       "      <td>Male</td>\n",
       "      <td>Other</td>\n",
       "      <td>340</td>\n",
       "      <td>662</td>\n",
       "      <td>3.91</td>\n",
       "    </tr>\n",
       "    <tr>\n",
       "      <th>89193</th>\n",
       "      <td>20466</td>\n",
       "      <td>20</td>\n",
       "      <td>47</td>\n",
       "      <td>31</td>\n",
       "      <td>Male</td>\n",
       "      <td>Other</td>\n",
       "      <td>240</td>\n",
       "      <td>892</td>\n",
       "      <td>3.56</td>\n",
       "    </tr>\n",
       "    <tr>\n",
       "      <th>89194</th>\n",
       "      <td>13655</td>\n",
       "      <td>16</td>\n",
       "      <td>97</td>\n",
       "      <td>25</td>\n",
       "      <td>Male</td>\n",
       "      <td>Student</td>\n",
       "      <td>270</td>\n",
       "      <td>462</td>\n",
       "      <td>4.23</td>\n",
       "    </tr>\n",
       "    <tr>\n",
       "      <th>89195</th>\n",
       "      <td>24840</td>\n",
       "      <td>9</td>\n",
       "      <td>18</td>\n",
       "      <td>35</td>\n",
       "      <td>Male</td>\n",
       "      <td>Working Professional</td>\n",
       "      <td>230</td>\n",
       "      <td>819</td>\n",
       "      <td>3.77</td>\n",
       "    </tr>\n",
       "    <tr>\n",
       "      <th>89196</th>\n",
       "      <td>27183</td>\n",
       "      <td>25</td>\n",
       "      <td>150</td>\n",
       "      <td>13</td>\n",
       "      <td>Male</td>\n",
       "      <td>Student</td>\n",
       "      <td>240</td>\n",
       "      <td>317</td>\n",
       "      <td>4.31</td>\n",
       "    </tr>\n",
       "  </tbody>\n",
       "</table>\n",
       "<p>89197 rows × 9 columns</p>\n",
       "</div>"
      ],
      "text/plain": [
       "       user_id  category_id  video_id  age  gender            profession  \\\n",
       "0        19990           37       128   24    Male               Student   \n",
       "1         5304           32       132   14  Female               Student   \n",
       "2         1840           12        24   19    Male               Student   \n",
       "3        12597           23       112   19    Male               Student   \n",
       "4        13626           23       112   27    Male  Working Professional   \n",
       "...        ...          ...       ...  ...     ...                   ...   \n",
       "89192    23996           15        32   25    Male                 Other   \n",
       "89193    20466           20        47   31    Male                 Other   \n",
       "89194    13655           16        97   25    Male               Student   \n",
       "89195    24840            9        18   35    Male  Working Professional   \n",
       "89196    27183           25       150   13    Male               Student   \n",
       "\n",
       "       followers  views  engagement_score  \n",
       "0            180   1000              4.33  \n",
       "1            330    714              1.79  \n",
       "2            180    138              4.35  \n",
       "3            220    613              3.77  \n",
       "4            220    613              3.13  \n",
       "...          ...    ...               ...  \n",
       "89192        340    662              3.91  \n",
       "89193        240    892              3.56  \n",
       "89194        270    462              4.23  \n",
       "89195        230    819              3.77  \n",
       "89196        240    317              4.31  \n",
       "\n",
       "[89197 rows x 9 columns]"
      ]
     },
     "execution_count": 18,
     "metadata": {},
     "output_type": "execute_result"
    }
   ],
   "source": [
    "upper_limit = percentile75 + 1.5 * iqr\n",
    "lower_limit = percentile25 - 1.5 * iqr\n",
    "data[data['views'] < upper_limit]\n",
    "data[data['views'] > lower_limit]"
   ]
  },
  {
   "cell_type": "code",
   "execution_count": 19,
   "id": "2d5fa7fa",
   "metadata": {
    "execution": {
     "iopub.execute_input": "2022-02-23T06:03:06.014690Z",
     "iopub.status.busy": "2022-02-23T06:03:06.013983Z",
     "iopub.status.idle": "2022-02-23T06:03:06.042589Z",
     "shell.execute_reply": "2022-02-23T06:03:06.043143Z",
     "shell.execute_reply.started": "2022-02-13T16:54:35.216617Z"
    },
    "papermill": {
     "duration": 0.093109,
     "end_time": "2022-02-23T06:03:06.043312",
     "exception": false,
     "start_time": "2022-02-23T06:03:05.950203",
     "status": "completed"
    },
    "tags": []
   },
   "outputs": [
    {
     "data": {
      "text/html": [
       "<div>\n",
       "<style scoped>\n",
       "    .dataframe tbody tr th:only-of-type {\n",
       "        vertical-align: middle;\n",
       "    }\n",
       "\n",
       "    .dataframe tbody tr th {\n",
       "        vertical-align: top;\n",
       "    }\n",
       "\n",
       "    .dataframe thead th {\n",
       "        text-align: right;\n",
       "    }\n",
       "</style>\n",
       "<table border=\"1\" class=\"dataframe\">\n",
       "  <thead>\n",
       "    <tr style=\"text-align: right;\">\n",
       "      <th></th>\n",
       "      <th>user_id</th>\n",
       "      <th>category_id</th>\n",
       "      <th>video_id</th>\n",
       "      <th>age</th>\n",
       "      <th>gender</th>\n",
       "      <th>profession</th>\n",
       "      <th>followers</th>\n",
       "      <th>views</th>\n",
       "      <th>engagement_score</th>\n",
       "    </tr>\n",
       "  </thead>\n",
       "  <tbody>\n",
       "    <tr>\n",
       "      <th>0</th>\n",
       "      <td>19990</td>\n",
       "      <td>37</td>\n",
       "      <td>128</td>\n",
       "      <td>24</td>\n",
       "      <td>Male</td>\n",
       "      <td>Student</td>\n",
       "      <td>180</td>\n",
       "      <td>1000</td>\n",
       "      <td>4.33</td>\n",
       "    </tr>\n",
       "    <tr>\n",
       "      <th>1</th>\n",
       "      <td>5304</td>\n",
       "      <td>32</td>\n",
       "      <td>132</td>\n",
       "      <td>14</td>\n",
       "      <td>Female</td>\n",
       "      <td>Student</td>\n",
       "      <td>330</td>\n",
       "      <td>714</td>\n",
       "      <td>1.79</td>\n",
       "    </tr>\n",
       "    <tr>\n",
       "      <th>2</th>\n",
       "      <td>1840</td>\n",
       "      <td>12</td>\n",
       "      <td>24</td>\n",
       "      <td>19</td>\n",
       "      <td>Male</td>\n",
       "      <td>Student</td>\n",
       "      <td>180</td>\n",
       "      <td>138</td>\n",
       "      <td>4.35</td>\n",
       "    </tr>\n",
       "    <tr>\n",
       "      <th>3</th>\n",
       "      <td>12597</td>\n",
       "      <td>23</td>\n",
       "      <td>112</td>\n",
       "      <td>19</td>\n",
       "      <td>Male</td>\n",
       "      <td>Student</td>\n",
       "      <td>220</td>\n",
       "      <td>613</td>\n",
       "      <td>3.77</td>\n",
       "    </tr>\n",
       "    <tr>\n",
       "      <th>4</th>\n",
       "      <td>13626</td>\n",
       "      <td>23</td>\n",
       "      <td>112</td>\n",
       "      <td>27</td>\n",
       "      <td>Male</td>\n",
       "      <td>Working Professional</td>\n",
       "      <td>220</td>\n",
       "      <td>613</td>\n",
       "      <td>3.13</td>\n",
       "    </tr>\n",
       "  </tbody>\n",
       "</table>\n",
       "</div>"
      ],
      "text/plain": [
       "   user_id  category_id  video_id  age  gender            profession  \\\n",
       "0    19990           37       128   24    Male               Student   \n",
       "1     5304           32       132   14  Female               Student   \n",
       "2     1840           12        24   19    Male               Student   \n",
       "3    12597           23       112   19    Male               Student   \n",
       "4    13626           23       112   27    Male  Working Professional   \n",
       "\n",
       "   followers  views  engagement_score  \n",
       "0        180   1000              4.33  \n",
       "1        330    714              1.79  \n",
       "2        180    138              4.35  \n",
       "3        220    613              3.77  \n",
       "4        220    613              3.13  "
      ]
     },
     "execution_count": 19,
     "metadata": {},
     "output_type": "execute_result"
    }
   ],
   "source": [
    "new_df = new_df[new_df['views'] < upper_limit ]\n",
    "new_df = new_df[new_df['views'] > lower_limit ]\n",
    "\n",
    "new_df.head()"
   ]
  },
  {
   "cell_type": "code",
   "execution_count": 20,
   "id": "5aae4f9f",
   "metadata": {
    "execution": {
     "iopub.execute_input": "2022-02-23T06:03:06.174831Z",
     "iopub.status.busy": "2022-02-23T06:03:06.174198Z",
     "iopub.status.idle": "2022-02-23T06:03:07.529851Z",
     "shell.execute_reply": "2022-02-23T06:03:07.530392Z",
     "shell.execute_reply.started": "2022-02-13T16:54:35.242717Z"
    },
    "papermill": {
     "duration": 1.424516,
     "end_time": "2022-02-23T06:03:07.530579",
     "exception": false,
     "start_time": "2022-02-23T06:03:06.106063",
     "status": "completed"
    },
    "tags": []
   },
   "outputs": [
    {
     "data": {
      "image/png": "[encoded data removed]",
      "text/plain": [
       "<Figure size 1296x504 with 4 Axes>"
      ]
     },
     "metadata": {
      "needs_background": "light"
     },
     "output_type": "display_data"
    }
   ],
   "source": [
    "plt.figure(figsize=(18,7))\n",
    "plt.subplot(2,2,1)\n",
    "sns.distplot(data['views'])\n",
    "plt.subplot(2,2,2)\n",
    "sns.boxplot(data[\"views\"])\n",
    "\n",
    "plt.subplot(2,2,3)\n",
    "sns.distplot(new_df[\"views\"])\n",
    "plt.subplot(2,2,4)\n",
    "sns.boxplot(new_df[\"views\"])\n",
    "\n",
    "plt.show()"
   ]
  },
  {
   "cell_type": "markdown",
   "id": "86b5f325",
   "metadata": {
    "papermill": {
     "duration": 0.061875,
     "end_time": "2022-02-23T06:03:07.656082",
     "exception": false,
     "start_time": "2022-02-23T06:03:07.594207",
     "status": "completed"
    },
    "tags": []
   },
   "source": [
    "engagement_score"
   ]
  },
  {
   "cell_type": "code",
   "execution_count": 21,
   "id": "afcfe0a8",
   "metadata": {
    "execution": {
     "iopub.execute_input": "2022-02-23T06:03:07.785344Z",
     "iopub.status.busy": "2022-02-23T06:03:07.784699Z",
     "iopub.status.idle": "2022-02-23T06:03:07.794819Z",
     "shell.execute_reply": "2022-02-23T06:03:07.794310Z",
     "shell.execute_reply.started": "2022-02-13T16:54:36.4383Z"
    },
    "papermill": {
     "duration": 0.075906,
     "end_time": "2022-02-23T06:03:07.794949",
     "exception": false,
     "start_time": "2022-02-23T06:03:07.719043",
     "status": "completed"
    },
    "tags": []
   },
   "outputs": [
    {
     "name": "stdout",
     "output_type": "stream",
     "text": [
      "1.25\n"
     ]
    }
   ],
   "source": [
    "percentile25 = data[\"engagement_score\"].quantile(0.25)\n",
    "percentile75 = data[\"engagement_score\"].quantile(0.75)\n",
    "iqr = percentile75 - percentile25\n",
    "print(iqr)"
   ]
  },
  {
   "cell_type": "code",
   "execution_count": 22,
   "id": "d8927904",
   "metadata": {
    "execution": {
     "iopub.execute_input": "2022-02-23T06:03:07.927813Z",
     "iopub.status.busy": "2022-02-23T06:03:07.927193Z",
     "iopub.status.idle": "2022-02-23T06:03:07.951961Z",
     "shell.execute_reply": "2022-02-23T06:03:07.951324Z",
     "shell.execute_reply.started": "2022-02-13T16:54:36.450278Z"
    },
    "papermill": {
     "duration": 0.092864,
     "end_time": "2022-02-23T06:03:07.952109",
     "exception": false,
     "start_time": "2022-02-23T06:03:07.859245",
     "status": "completed"
    },
    "tags": []
   },
   "outputs": [
    {
     "data": {
      "text/html": [
       "<div>\n",
       "<style scoped>\n",
       "    .dataframe tbody tr th:only-of-type {\n",
       "        vertical-align: middle;\n",
       "    }\n",
       "\n",
       "    .dataframe tbody tr th {\n",
       "        vertical-align: top;\n",
       "    }\n",
       "\n",
       "    .dataframe thead th {\n",
       "        text-align: right;\n",
       "    }\n",
       "</style>\n",
       "<table border=\"1\" class=\"dataframe\">\n",
       "  <thead>\n",
       "    <tr style=\"text-align: right;\">\n",
       "      <th></th>\n",
       "      <th>user_id</th>\n",
       "      <th>category_id</th>\n",
       "      <th>video_id</th>\n",
       "      <th>age</th>\n",
       "      <th>gender</th>\n",
       "      <th>profession</th>\n",
       "      <th>followers</th>\n",
       "      <th>views</th>\n",
       "      <th>engagement_score</th>\n",
       "    </tr>\n",
       "  </thead>\n",
       "  <tbody>\n",
       "    <tr>\n",
       "      <th>0</th>\n",
       "      <td>19990</td>\n",
       "      <td>37</td>\n",
       "      <td>128</td>\n",
       "      <td>24</td>\n",
       "      <td>Male</td>\n",
       "      <td>Student</td>\n",
       "      <td>180</td>\n",
       "      <td>1000</td>\n",
       "      <td>4.33</td>\n",
       "    </tr>\n",
       "    <tr>\n",
       "      <th>1</th>\n",
       "      <td>5304</td>\n",
       "      <td>32</td>\n",
       "      <td>132</td>\n",
       "      <td>14</td>\n",
       "      <td>Female</td>\n",
       "      <td>Student</td>\n",
       "      <td>330</td>\n",
       "      <td>714</td>\n",
       "      <td>1.79</td>\n",
       "    </tr>\n",
       "    <tr>\n",
       "      <th>2</th>\n",
       "      <td>1840</td>\n",
       "      <td>12</td>\n",
       "      <td>24</td>\n",
       "      <td>19</td>\n",
       "      <td>Male</td>\n",
       "      <td>Student</td>\n",
       "      <td>180</td>\n",
       "      <td>138</td>\n",
       "      <td>4.35</td>\n",
       "    </tr>\n",
       "    <tr>\n",
       "      <th>3</th>\n",
       "      <td>12597</td>\n",
       "      <td>23</td>\n",
       "      <td>112</td>\n",
       "      <td>19</td>\n",
       "      <td>Male</td>\n",
       "      <td>Student</td>\n",
       "      <td>220</td>\n",
       "      <td>613</td>\n",
       "      <td>3.77</td>\n",
       "    </tr>\n",
       "    <tr>\n",
       "      <th>4</th>\n",
       "      <td>13626</td>\n",
       "      <td>23</td>\n",
       "      <td>112</td>\n",
       "      <td>27</td>\n",
       "      <td>Male</td>\n",
       "      <td>Working Professional</td>\n",
       "      <td>220</td>\n",
       "      <td>613</td>\n",
       "      <td>3.13</td>\n",
       "    </tr>\n",
       "    <tr>\n",
       "      <th>...</th>\n",
       "      <td>...</td>\n",
       "      <td>...</td>\n",
       "      <td>...</td>\n",
       "      <td>...</td>\n",
       "      <td>...</td>\n",
       "      <td>...</td>\n",
       "      <td>...</td>\n",
       "      <td>...</td>\n",
       "      <td>...</td>\n",
       "    </tr>\n",
       "    <tr>\n",
       "      <th>89192</th>\n",
       "      <td>23996</td>\n",
       "      <td>15</td>\n",
       "      <td>32</td>\n",
       "      <td>25</td>\n",
       "      <td>Male</td>\n",
       "      <td>Other</td>\n",
       "      <td>340</td>\n",
       "      <td>662</td>\n",
       "      <td>3.91</td>\n",
       "    </tr>\n",
       "    <tr>\n",
       "      <th>89193</th>\n",
       "      <td>20466</td>\n",
       "      <td>20</td>\n",
       "      <td>47</td>\n",
       "      <td>31</td>\n",
       "      <td>Male</td>\n",
       "      <td>Other</td>\n",
       "      <td>240</td>\n",
       "      <td>892</td>\n",
       "      <td>3.56</td>\n",
       "    </tr>\n",
       "    <tr>\n",
       "      <th>89194</th>\n",
       "      <td>13655</td>\n",
       "      <td>16</td>\n",
       "      <td>97</td>\n",
       "      <td>25</td>\n",
       "      <td>Male</td>\n",
       "      <td>Student</td>\n",
       "      <td>270</td>\n",
       "      <td>462</td>\n",
       "      <td>4.23</td>\n",
       "    </tr>\n",
       "    <tr>\n",
       "      <th>89195</th>\n",
       "      <td>24840</td>\n",
       "      <td>9</td>\n",
       "      <td>18</td>\n",
       "      <td>35</td>\n",
       "      <td>Male</td>\n",
       "      <td>Working Professional</td>\n",
       "      <td>230</td>\n",
       "      <td>819</td>\n",
       "      <td>3.77</td>\n",
       "    </tr>\n",
       "    <tr>\n",
       "      <th>89196</th>\n",
       "      <td>27183</td>\n",
       "      <td>25</td>\n",
       "      <td>150</td>\n",
       "      <td>13</td>\n",
       "      <td>Male</td>\n",
       "      <td>Student</td>\n",
       "      <td>240</td>\n",
       "      <td>317</td>\n",
       "      <td>4.31</td>\n",
       "    </tr>\n",
       "  </tbody>\n",
       "</table>\n",
       "<p>88377 rows × 9 columns</p>\n",
       "</div>"
      ],
      "text/plain": [
       "       user_id  category_id  video_id  age  gender            profession  \\\n",
       "0        19990           37       128   24    Male               Student   \n",
       "1         5304           32       132   14  Female               Student   \n",
       "2         1840           12        24   19    Male               Student   \n",
       "3        12597           23       112   19    Male               Student   \n",
       "4        13626           23       112   27    Male  Working Professional   \n",
       "...        ...          ...       ...  ...     ...                   ...   \n",
       "89192    23996           15        32   25    Male                 Other   \n",
       "89193    20466           20        47   31    Male                 Other   \n",
       "89194    13655           16        97   25    Male               Student   \n",
       "89195    24840            9        18   35    Male  Working Professional   \n",
       "89196    27183           25       150   13    Male               Student   \n",
       "\n",
       "       followers  views  engagement_score  \n",
       "0            180   1000              4.33  \n",
       "1            330    714              1.79  \n",
       "2            180    138              4.35  \n",
       "3            220    613              3.77  \n",
       "4            220    613              3.13  \n",
       "...          ...    ...               ...  \n",
       "89192        340    662              3.91  \n",
       "89193        240    892              3.56  \n",
       "89194        270    462              4.23  \n",
       "89195        230    819              3.77  \n",
       "89196        240    317              4.31  \n",
       "\n",
       "[88377 rows x 9 columns]"
      ]
     },
     "execution_count": 22,
     "metadata": {},
     "output_type": "execute_result"
    }
   ],
   "source": [
    "upper_limit = percentile75 + 1.5 * iqr\n",
    "lower_limit = percentile25 - 1.5 * iqr\n",
    "data[data['engagement_score'] < upper_limit]\n",
    "data[data['engagement_score'] > lower_limit]"
   ]
  },
  {
   "cell_type": "code",
   "execution_count": 23,
   "id": "f3fa9434",
   "metadata": {
    "execution": {
     "iopub.execute_input": "2022-02-23T06:03:08.087305Z",
     "iopub.status.busy": "2022-02-23T06:03:08.086648Z",
     "iopub.status.idle": "2022-02-23T06:03:08.112397Z",
     "shell.execute_reply": "2022-02-23T06:03:08.111851Z",
     "shell.execute_reply.started": "2022-02-13T16:54:36.480373Z"
    },
    "papermill": {
     "duration": 0.095773,
     "end_time": "2022-02-23T06:03:08.112542",
     "exception": false,
     "start_time": "2022-02-23T06:03:08.016769",
     "status": "completed"
    },
    "tags": []
   },
   "outputs": [
    {
     "data": {
      "text/html": [
       "<div>\n",
       "<style scoped>\n",
       "    .dataframe tbody tr th:only-of-type {\n",
       "        vertical-align: middle;\n",
       "    }\n",
       "\n",
       "    .dataframe tbody tr th {\n",
       "        vertical-align: top;\n",
       "    }\n",
       "\n",
       "    .dataframe thead th {\n",
       "        text-align: right;\n",
       "    }\n",
       "</style>\n",
       "<table border=\"1\" class=\"dataframe\">\n",
       "  <thead>\n",
       "    <tr style=\"text-align: right;\">\n",
       "      <th></th>\n",
       "      <th>user_id</th>\n",
       "      <th>category_id</th>\n",
       "      <th>video_id</th>\n",
       "      <th>age</th>\n",
       "      <th>gender</th>\n",
       "      <th>profession</th>\n",
       "      <th>followers</th>\n",
       "      <th>views</th>\n",
       "      <th>engagement_score</th>\n",
       "    </tr>\n",
       "  </thead>\n",
       "  <tbody>\n",
       "    <tr>\n",
       "      <th>0</th>\n",
       "      <td>19990</td>\n",
       "      <td>37</td>\n",
       "      <td>128</td>\n",
       "      <td>24</td>\n",
       "      <td>Male</td>\n",
       "      <td>Student</td>\n",
       "      <td>180</td>\n",
       "      <td>1000</td>\n",
       "      <td>4.33</td>\n",
       "    </tr>\n",
       "    <tr>\n",
       "      <th>1</th>\n",
       "      <td>5304</td>\n",
       "      <td>32</td>\n",
       "      <td>132</td>\n",
       "      <td>14</td>\n",
       "      <td>Female</td>\n",
       "      <td>Student</td>\n",
       "      <td>330</td>\n",
       "      <td>714</td>\n",
       "      <td>1.79</td>\n",
       "    </tr>\n",
       "    <tr>\n",
       "      <th>2</th>\n",
       "      <td>1840</td>\n",
       "      <td>12</td>\n",
       "      <td>24</td>\n",
       "      <td>19</td>\n",
       "      <td>Male</td>\n",
       "      <td>Student</td>\n",
       "      <td>180</td>\n",
       "      <td>138</td>\n",
       "      <td>4.35</td>\n",
       "    </tr>\n",
       "    <tr>\n",
       "      <th>3</th>\n",
       "      <td>12597</td>\n",
       "      <td>23</td>\n",
       "      <td>112</td>\n",
       "      <td>19</td>\n",
       "      <td>Male</td>\n",
       "      <td>Student</td>\n",
       "      <td>220</td>\n",
       "      <td>613</td>\n",
       "      <td>3.77</td>\n",
       "    </tr>\n",
       "    <tr>\n",
       "      <th>4</th>\n",
       "      <td>13626</td>\n",
       "      <td>23</td>\n",
       "      <td>112</td>\n",
       "      <td>27</td>\n",
       "      <td>Male</td>\n",
       "      <td>Working Professional</td>\n",
       "      <td>220</td>\n",
       "      <td>613</td>\n",
       "      <td>3.13</td>\n",
       "    </tr>\n",
       "  </tbody>\n",
       "</table>\n",
       "</div>"
      ],
      "text/plain": [
       "   user_id  category_id  video_id  age  gender            profession  \\\n",
       "0    19990           37       128   24    Male               Student   \n",
       "1     5304           32       132   14  Female               Student   \n",
       "2     1840           12        24   19    Male               Student   \n",
       "3    12597           23       112   19    Male               Student   \n",
       "4    13626           23       112   27    Male  Working Professional   \n",
       "\n",
       "   followers  views  engagement_score  \n",
       "0        180   1000              4.33  \n",
       "1        330    714              1.79  \n",
       "2        180    138              4.35  \n",
       "3        220    613              3.77  \n",
       "4        220    613              3.13  "
      ]
     },
     "execution_count": 23,
     "metadata": {},
     "output_type": "execute_result"
    }
   ],
   "source": [
    "new_df = new_df[new_df['engagement_score'] < upper_limit ]\n",
    "new_df = new_df[new_df['engagement_score'] > lower_limit ]\n",
    "\n",
    "new_df.head()"
   ]
  },
  {
   "cell_type": "code",
   "execution_count": 24,
   "id": "c103d2ad",
   "metadata": {
    "execution": {
     "iopub.execute_input": "2022-02-23T06:03:08.266213Z",
     "iopub.status.busy": "2022-02-23T06:03:08.264304Z",
     "iopub.status.idle": "2022-02-23T06:03:09.611837Z",
     "shell.execute_reply": "2022-02-23T06:03:09.611199Z",
     "shell.execute_reply.started": "2022-02-13T16:54:36.508637Z"
    },
    "papermill": {
     "duration": 1.434303,
     "end_time": "2022-02-23T06:03:09.611978",
     "exception": false,
     "start_time": "2022-02-23T06:03:08.177675",
     "status": "completed"
    },
    "tags": []
   },
   "outputs": [
    {
     "data": {
      "image/png": "[encoded data removed]",
      "text/plain": [
       "<Figure size 1296x504 with 4 Axes>"
      ]
     },
     "metadata": {
      "needs_background": "light"
     },
     "output_type": "display_data"
    }
   ],
   "source": [
    "plt.figure(figsize=(18,7))\n",
    "plt.subplot(2,2,1)\n",
    "sns.distplot(data['engagement_score'])\n",
    "plt.subplot(2,2,2)\n",
    "sns.boxplot(data[\"engagement_score\"])\n",
    "\n",
    "plt.subplot(2,2,3)\n",
    "sns.distplot(new_df[\"engagement_score\"])\n",
    "plt.subplot(2,2,4)\n",
    "sns.boxplot(new_df[\"engagement_score\"])\n",
    "\n",
    "plt.show()"
   ]
  },
  {
   "cell_type": "code",
   "execution_count": 25,
   "id": "ae41129c",
   "metadata": {
    "execution": {
     "iopub.execute_input": "2022-02-23T06:03:09.759394Z",
     "iopub.status.busy": "2022-02-23T06:03:09.746884Z",
     "iopub.status.idle": "2022-02-23T06:03:09.765789Z",
     "shell.execute_reply": "2022-02-23T06:03:09.765307Z",
     "shell.execute_reply.started": "2022-02-13T16:54:37.866149Z"
    },
    "papermill": {
     "duration": 0.088438,
     "end_time": "2022-02-23T06:03:09.765926",
     "exception": false,
     "start_time": "2022-02-23T06:03:09.677488",
     "status": "completed"
    },
    "tags": []
   },
   "outputs": [
    {
     "data": {
      "text/plain": [
       "Student                 43532\n",
       "Other                   25968\n",
       "Working Professional    16791\n",
       "Name: profession, dtype: int64"
      ]
     },
     "execution_count": 25,
     "metadata": {},
     "output_type": "execute_result"
    }
   ],
   "source": [
    "new_df.profession.value_counts()"
   ]
  },
  {
   "cell_type": "markdown",
   "id": "e18d83bb",
   "metadata": {
    "papermill": {
     "duration": 0.066767,
     "end_time": "2022-02-23T06:03:09.899525",
     "exception": false,
     "start_time": "2022-02-23T06:03:09.832758",
     "status": "completed"
    },
    "tags": []
   },
   "source": [
    "new_dfdent                 44638\n",
    "Other                   26840\n",
    "Working Professional    17719\n",
    "Name: profession, dtype: int64"
   ]
  },
  {
   "cell_type": "code",
   "execution_count": 26,
   "id": "555db871",
   "metadata": {
    "execution": {
     "iopub.execute_input": "2022-02-23T06:03:10.038289Z",
     "iopub.status.busy": "2022-02-23T06:03:10.037613Z",
     "iopub.status.idle": "2022-02-23T06:03:10.040318Z",
     "shell.execute_reply": "2022-02-23T06:03:10.039727Z",
     "shell.execute_reply.started": "2022-02-13T16:54:37.880551Z"
    },
    "papermill": {
     "duration": 0.074009,
     "end_time": "2022-02-23T06:03:10.040448",
     "exception": false,
     "start_time": "2022-02-23T06:03:09.966439",
     "status": "completed"
    },
    "tags": []
   },
   "outputs": [],
   "source": [
    "one_hot_encoding_columns = [\"gender\",\"profession\"]"
   ]
  },
  {
   "cell_type": "code",
   "execution_count": 27,
   "id": "8a59b20a",
   "metadata": {
    "execution": {
     "iopub.execute_input": "2022-02-23T06:03:10.176642Z",
     "iopub.status.busy": "2022-02-23T06:03:10.176007Z",
     "iopub.status.idle": "2022-02-23T06:03:10.212912Z",
     "shell.execute_reply": "2022-02-23T06:03:10.213427Z",
     "shell.execute_reply.started": "2022-02-13T16:54:37.890735Z"
    },
    "papermill": {
     "duration": 0.106417,
     "end_time": "2022-02-23T06:03:10.213603",
     "exception": false,
     "start_time": "2022-02-23T06:03:10.107186",
     "status": "completed"
    },
    "tags": []
   },
   "outputs": [
    {
     "data": {
      "text/html": [
       "<div>\n",
       "<style scoped>\n",
       "    .dataframe tbody tr th:only-of-type {\n",
       "        vertical-align: middle;\n",
       "    }\n",
       "\n",
       "    .dataframe tbody tr th {\n",
       "        vertical-align: top;\n",
       "    }\n",
       "\n",
       "    .dataframe thead th {\n",
       "        text-align: right;\n",
       "    }\n",
       "</style>\n",
       "<table border=\"1\" class=\"dataframe\">\n",
       "  <thead>\n",
       "    <tr style=\"text-align: right;\">\n",
       "      <th></th>\n",
       "      <th>user_id</th>\n",
       "      <th>category_id</th>\n",
       "      <th>video_id</th>\n",
       "      <th>age</th>\n",
       "      <th>profession</th>\n",
       "      <th>followers</th>\n",
       "      <th>views</th>\n",
       "      <th>engagement_score</th>\n",
       "      <th>gender_Female</th>\n",
       "    </tr>\n",
       "  </thead>\n",
       "  <tbody>\n",
       "    <tr>\n",
       "      <th>0</th>\n",
       "      <td>19990</td>\n",
       "      <td>37</td>\n",
       "      <td>128</td>\n",
       "      <td>24</td>\n",
       "      <td>Student</td>\n",
       "      <td>180</td>\n",
       "      <td>1000</td>\n",
       "      <td>4.33</td>\n",
       "      <td>0</td>\n",
       "    </tr>\n",
       "    <tr>\n",
       "      <th>1</th>\n",
       "      <td>5304</td>\n",
       "      <td>32</td>\n",
       "      <td>132</td>\n",
       "      <td>14</td>\n",
       "      <td>Student</td>\n",
       "      <td>330</td>\n",
       "      <td>714</td>\n",
       "      <td>1.79</td>\n",
       "      <td>1</td>\n",
       "    </tr>\n",
       "    <tr>\n",
       "      <th>2</th>\n",
       "      <td>1840</td>\n",
       "      <td>12</td>\n",
       "      <td>24</td>\n",
       "      <td>19</td>\n",
       "      <td>Student</td>\n",
       "      <td>180</td>\n",
       "      <td>138</td>\n",
       "      <td>4.35</td>\n",
       "      <td>0</td>\n",
       "    </tr>\n",
       "    <tr>\n",
       "      <th>3</th>\n",
       "      <td>12597</td>\n",
       "      <td>23</td>\n",
       "      <td>112</td>\n",
       "      <td>19</td>\n",
       "      <td>Student</td>\n",
       "      <td>220</td>\n",
       "      <td>613</td>\n",
       "      <td>3.77</td>\n",
       "      <td>0</td>\n",
       "    </tr>\n",
       "    <tr>\n",
       "      <th>4</th>\n",
       "      <td>13626</td>\n",
       "      <td>23</td>\n",
       "      <td>112</td>\n",
       "      <td>27</td>\n",
       "      <td>Working Professional</td>\n",
       "      <td>220</td>\n",
       "      <td>613</td>\n",
       "      <td>3.13</td>\n",
       "      <td>0</td>\n",
       "    </tr>\n",
       "  </tbody>\n",
       "</table>\n",
       "</div>"
      ],
      "text/plain": [
       "   user_id  category_id  video_id  age            profession  followers  \\\n",
       "0    19990           37       128   24               Student        180   \n",
       "1     5304           32       132   14               Student        330   \n",
       "2     1840           12        24   19               Student        180   \n",
       "3    12597           23       112   19               Student        220   \n",
       "4    13626           23       112   27  Working Professional        220   \n",
       "\n",
       "   views  engagement_score  gender_Female  \n",
       "0   1000              4.33              0  \n",
       "1    714              1.79              1  \n",
       "2    138              4.35              0  \n",
       "3    613              3.77              0  \n",
       "4    613              3.13              0  "
      ]
     },
     "execution_count": 27,
     "metadata": {},
     "output_type": "execute_result"
    }
   ],
   "source": [
    "new_df = pd.get_dummies(new_df, columns = [\"gender\"])\n",
    "new_df = new_df.drop([\"gender_Male\"],axis=1)\n",
    "new_df.head()"
   ]
  },
  {
   "cell_type": "code",
   "execution_count": 28,
   "id": "33267464",
   "metadata": {
    "execution": {
     "iopub.execute_input": "2022-02-23T06:03:10.364722Z",
     "iopub.status.busy": "2022-02-23T06:03:10.363863Z",
     "iopub.status.idle": "2022-02-23T06:03:10.413074Z",
     "shell.execute_reply": "2022-02-23T06:03:10.412296Z",
     "shell.execute_reply.started": "2022-02-13T16:54:37.932589Z"
    },
    "papermill": {
     "duration": 0.132412,
     "end_time": "2022-02-23T06:03:10.413222",
     "exception": false,
     "start_time": "2022-02-23T06:03:10.280810",
     "status": "completed"
    },
    "tags": []
   },
   "outputs": [
    {
     "data": {
      "text/html": [
       "<div>\n",
       "<style scoped>\n",
       "    .dataframe tbody tr th:only-of-type {\n",
       "        vertical-align: middle;\n",
       "    }\n",
       "\n",
       "    .dataframe tbody tr th {\n",
       "        vertical-align: top;\n",
       "    }\n",
       "\n",
       "    .dataframe thead th {\n",
       "        text-align: right;\n",
       "    }\n",
       "</style>\n",
       "<table border=\"1\" class=\"dataframe\">\n",
       "  <thead>\n",
       "    <tr style=\"text-align: right;\">\n",
       "      <th></th>\n",
       "      <th>user_id</th>\n",
       "      <th>category_id</th>\n",
       "      <th>video_id</th>\n",
       "      <th>age</th>\n",
       "      <th>followers</th>\n",
       "      <th>views</th>\n",
       "      <th>engagement_score</th>\n",
       "      <th>gender_Female</th>\n",
       "      <th>profession_Student</th>\n",
       "      <th>profession_Working Professional</th>\n",
       "    </tr>\n",
       "  </thead>\n",
       "  <tbody>\n",
       "    <tr>\n",
       "      <th>0</th>\n",
       "      <td>19990</td>\n",
       "      <td>37</td>\n",
       "      <td>128</td>\n",
       "      <td>24</td>\n",
       "      <td>180</td>\n",
       "      <td>1000</td>\n",
       "      <td>4.33</td>\n",
       "      <td>0</td>\n",
       "      <td>1</td>\n",
       "      <td>0</td>\n",
       "    </tr>\n",
       "    <tr>\n",
       "      <th>1</th>\n",
       "      <td>5304</td>\n",
       "      <td>32</td>\n",
       "      <td>132</td>\n",
       "      <td>14</td>\n",
       "      <td>330</td>\n",
       "      <td>714</td>\n",
       "      <td>1.79</td>\n",
       "      <td>1</td>\n",
       "      <td>1</td>\n",
       "      <td>0</td>\n",
       "    </tr>\n",
       "    <tr>\n",
       "      <th>2</th>\n",
       "      <td>1840</td>\n",
       "      <td>12</td>\n",
       "      <td>24</td>\n",
       "      <td>19</td>\n",
       "      <td>180</td>\n",
       "      <td>138</td>\n",
       "      <td>4.35</td>\n",
       "      <td>0</td>\n",
       "      <td>1</td>\n",
       "      <td>0</td>\n",
       "    </tr>\n",
       "    <tr>\n",
       "      <th>3</th>\n",
       "      <td>12597</td>\n",
       "      <td>23</td>\n",
       "      <td>112</td>\n",
       "      <td>19</td>\n",
       "      <td>220</td>\n",
       "      <td>613</td>\n",
       "      <td>3.77</td>\n",
       "      <td>0</td>\n",
       "      <td>1</td>\n",
       "      <td>0</td>\n",
       "    </tr>\n",
       "    <tr>\n",
       "      <th>4</th>\n",
       "      <td>13626</td>\n",
       "      <td>23</td>\n",
       "      <td>112</td>\n",
       "      <td>27</td>\n",
       "      <td>220</td>\n",
       "      <td>613</td>\n",
       "      <td>3.13</td>\n",
       "      <td>0</td>\n",
       "      <td>0</td>\n",
       "      <td>1</td>\n",
       "    </tr>\n",
       "  </tbody>\n",
       "</table>\n",
       "</div>"
      ],
      "text/plain": [
       "   user_id  category_id  video_id  age  followers  views  engagement_score  \\\n",
       "0    19990           37       128   24        180   1000              4.33   \n",
       "1     5304           32       132   14        330    714              1.79   \n",
       "2     1840           12        24   19        180    138              4.35   \n",
       "3    12597           23       112   19        220    613              3.77   \n",
       "4    13626           23       112   27        220    613              3.13   \n",
       "\n",
       "   gender_Female  profession_Student  profession_Working Professional  \n",
       "0              0                   1                                0  \n",
       "1              1                   1                                0  \n",
       "2              0                   1                                0  \n",
       "3              0                   1                                0  \n",
       "4              0                   0                                1  "
      ]
     },
     "execution_count": 28,
     "metadata": {},
     "output_type": "execute_result"
    }
   ],
   "source": [
    "new_df = pd.get_dummies(new_df, columns = [\"profession\"])\n",
    "new_df = new_df.drop([\"profession_Other\"],axis=1)\n",
    "new_df.head()"
   ]
  },
  {
   "cell_type": "code",
   "execution_count": 29,
   "id": "c742614f",
   "metadata": {
    "execution": {
     "iopub.execute_input": "2022-02-23T06:03:10.556018Z",
     "iopub.status.busy": "2022-02-23T06:03:10.554903Z",
     "iopub.status.idle": "2022-02-23T06:03:10.561579Z",
     "shell.execute_reply": "2022-02-23T06:03:10.562060Z",
     "shell.execute_reply.started": "2022-02-13T16:54:37.968725Z"
    },
    "papermill": {
     "duration": 0.07879,
     "end_time": "2022-02-23T06:03:10.562239",
     "exception": false,
     "start_time": "2022-02-23T06:03:10.483449",
     "status": "completed"
    },
    "tags": []
   },
   "outputs": [],
   "source": [
    "X = new_df.drop([\"engagement_score\"],axis=1)\n",
    "y = new_df.engagement_score"
   ]
  },
  {
   "cell_type": "code",
   "execution_count": 30,
   "id": "e8cf495d",
   "metadata": {
    "execution": {
     "iopub.execute_input": "2022-02-23T06:03:10.711146Z",
     "iopub.status.busy": "2022-02-23T06:03:10.710478Z",
     "iopub.status.idle": "2022-02-23T06:03:10.713425Z",
     "shell.execute_reply": "2022-02-23T06:03:10.713983Z",
     "shell.execute_reply.started": "2022-02-13T16:54:37.977004Z"
    },
    "papermill": {
     "duration": 0.082118,
     "end_time": "2022-02-23T06:03:10.714187",
     "exception": false,
     "start_time": "2022-02-23T06:03:10.632069",
     "status": "completed"
    },
    "tags": []
   },
   "outputs": [
    {
     "data": {
      "text/html": [
       "<div>\n",
       "<style scoped>\n",
       "    .dataframe tbody tr th:only-of-type {\n",
       "        vertical-align: middle;\n",
       "    }\n",
       "\n",
       "    .dataframe tbody tr th {\n",
       "        vertical-align: top;\n",
       "    }\n",
       "\n",
       "    .dataframe thead th {\n",
       "        text-align: right;\n",
       "    }\n",
       "</style>\n",
       "<table border=\"1\" class=\"dataframe\">\n",
       "  <thead>\n",
       "    <tr style=\"text-align: right;\">\n",
       "      <th></th>\n",
       "      <th>user_id</th>\n",
       "      <th>category_id</th>\n",
       "      <th>video_id</th>\n",
       "      <th>age</th>\n",
       "      <th>followers</th>\n",
       "      <th>views</th>\n",
       "      <th>gender_Female</th>\n",
       "      <th>profession_Student</th>\n",
       "      <th>profession_Working Professional</th>\n",
       "    </tr>\n",
       "  </thead>\n",
       "  <tbody>\n",
       "    <tr>\n",
       "      <th>0</th>\n",
       "      <td>19990</td>\n",
       "      <td>37</td>\n",
       "      <td>128</td>\n",
       "      <td>24</td>\n",
       "      <td>180</td>\n",
       "      <td>1000</td>\n",
       "      <td>0</td>\n",
       "      <td>1</td>\n",
       "      <td>0</td>\n",
       "    </tr>\n",
       "    <tr>\n",
       "      <th>1</th>\n",
       "      <td>5304</td>\n",
       "      <td>32</td>\n",
       "      <td>132</td>\n",
       "      <td>14</td>\n",
       "      <td>330</td>\n",
       "      <td>714</td>\n",
       "      <td>1</td>\n",
       "      <td>1</td>\n",
       "      <td>0</td>\n",
       "    </tr>\n",
       "    <tr>\n",
       "      <th>2</th>\n",
       "      <td>1840</td>\n",
       "      <td>12</td>\n",
       "      <td>24</td>\n",
       "      <td>19</td>\n",
       "      <td>180</td>\n",
       "      <td>138</td>\n",
       "      <td>0</td>\n",
       "      <td>1</td>\n",
       "      <td>0</td>\n",
       "    </tr>\n",
       "    <tr>\n",
       "      <th>3</th>\n",
       "      <td>12597</td>\n",
       "      <td>23</td>\n",
       "      <td>112</td>\n",
       "      <td>19</td>\n",
       "      <td>220</td>\n",
       "      <td>613</td>\n",
       "      <td>0</td>\n",
       "      <td>1</td>\n",
       "      <td>0</td>\n",
       "    </tr>\n",
       "    <tr>\n",
       "      <th>4</th>\n",
       "      <td>13626</td>\n",
       "      <td>23</td>\n",
       "      <td>112</td>\n",
       "      <td>27</td>\n",
       "      <td>220</td>\n",
       "      <td>613</td>\n",
       "      <td>0</td>\n",
       "      <td>0</td>\n",
       "      <td>1</td>\n",
       "    </tr>\n",
       "  </tbody>\n",
       "</table>\n",
       "</div>"
      ],
      "text/plain": [
       "   user_id  category_id  video_id  age  followers  views  gender_Female  \\\n",
       "0    19990           37       128   24        180   1000              0   \n",
       "1     5304           32       132   14        330    714              1   \n",
       "2     1840           12        24   19        180    138              0   \n",
       "3    12597           23       112   19        220    613              0   \n",
       "4    13626           23       112   27        220    613              0   \n",
       "\n",
       "   profession_Student  profession_Working Professional  \n",
       "0                   1                                0  \n",
       "1                   1                                0  \n",
       "2                   1                                0  \n",
       "3                   1                                0  \n",
       "4                   0                                1  "
      ]
     },
     "execution_count": 30,
     "metadata": {},
     "output_type": "execute_result"
    }
   ],
   "source": [
    "X.head()"
   ]
  },
  {
   "cell_type": "code",
   "execution_count": 31,
   "id": "ebe0a34f",
   "metadata": {
    "execution": {
     "iopub.execute_input": "2022-02-23T06:03:10.854960Z",
     "iopub.status.busy": "2022-02-23T06:03:10.854359Z",
     "iopub.status.idle": "2022-02-23T06:03:10.860062Z",
     "shell.execute_reply": "2022-02-23T06:03:10.860589Z",
     "shell.execute_reply.started": "2022-02-13T16:54:37.995809Z"
    },
    "papermill": {
     "duration": 0.077753,
     "end_time": "2022-02-23T06:03:10.860745",
     "exception": false,
     "start_time": "2022-02-23T06:03:10.782992",
     "status": "completed"
    },
    "tags": []
   },
   "outputs": [
    {
     "data": {
      "text/plain": [
       "0    4.33\n",
       "1    1.79\n",
       "2    4.35\n",
       "3    3.77\n",
       "4    3.13\n",
       "Name: engagement_score, dtype: float64"
      ]
     },
     "execution_count": 31,
     "metadata": {},
     "output_type": "execute_result"
    }
   ],
   "source": [
    "y.head()"
   ]
  },
  {
   "cell_type": "code",
   "execution_count": 32,
   "id": "2a44782d",
   "metadata": {
    "execution": {
     "iopub.execute_input": "2022-02-23T06:03:11.002549Z",
     "iopub.status.busy": "2022-02-23T06:03:11.001073Z",
     "iopub.status.idle": "2022-02-23T06:03:11.005233Z",
     "shell.execute_reply": "2022-02-23T06:03:11.004611Z",
     "shell.execute_reply.started": "2022-02-13T16:54:38.003403Z"
    },
    "papermill": {
     "duration": 0.075519,
     "end_time": "2022-02-23T06:03:11.005364",
     "exception": false,
     "start_time": "2022-02-23T06:03:10.929845",
     "status": "completed"
    },
    "tags": []
   },
   "outputs": [],
   "source": [
    "# min-max normalization (numeric variables)\n",
    "# min_max_columns = ['age', 'followers', 'views']\n",
    "\n",
    "# # scale numerical variables using min max scaler\n",
    "# for column in min_max_columns:\n",
    "#         # minimum value of the column\n",
    "#         min_column = X[column].min()\n",
    "#         # maximum value of the column\n",
    "#         max_column = X[column].max()\n",
    "#         # min max scaler\n",
    "#         X[column] = (X[column] - min_column) / (max_column - min_column)  "
   ]
  },
  {
   "cell_type": "code",
   "execution_count": 33,
   "id": "2005d93c",
   "metadata": {
    "execution": {
     "iopub.execute_input": "2022-02-23T06:03:11.148974Z",
     "iopub.status.busy": "2022-02-23T06:03:11.148210Z",
     "iopub.status.idle": "2022-02-23T06:03:12.266954Z",
     "shell.execute_reply": "2022-02-23T06:03:12.266393Z",
     "shell.execute_reply.started": "2022-02-13T16:54:38.014888Z"
    },
    "papermill": {
     "duration": 1.192977,
     "end_time": "2022-02-23T06:03:12.267127",
     "exception": false,
     "start_time": "2022-02-23T06:03:11.074150",
     "status": "completed"
    },
    "tags": []
   },
   "outputs": [
    {
     "data": {
      "text/html": [
       "<style type='text/css'>\n",
       ".datatable table.frame { margin-bottom: 0; }\n",
       ".datatable table.frame thead { border-bottom: none; }\n",
       ".datatable table.frame tr.coltypes td {  color: #FFFFFF;  line-height: 6px;  padding: 0 0.5em;}\n",
       ".datatable .bool    { background: #DDDD99; }\n",
       ".datatable .object  { background: #565656; }\n",
       ".datatable .int     { background: #5D9E5D; }\n",
       ".datatable .float   { background: #4040CC; }\n",
       ".datatable .str     { background: #CC4040; }\n",
       ".datatable .time    { background: #40CC40; }\n",
       ".datatable .row_index {  background: var(--jp-border-color3);  border-right: 1px solid var(--jp-border-color0);  color: var(--jp-ui-font-color3);  font-size: 9px;}\n",
       ".datatable .frame tbody td { text-align: left; }\n",
       ".datatable .frame tr.coltypes .row_index {  background: var(--jp-border-color0);}\n",
       ".datatable th:nth-child(2) { padding-left: 12px; }\n",
       ".datatable .hellipsis {  color: var(--jp-cell-editor-border-color);}\n",
       ".datatable .vellipsis {  background: var(--jp-layout-color0);  color: var(--jp-cell-editor-border-color);}\n",
       ".datatable .na {  color: var(--jp-cell-editor-border-color);  font-size: 80%;}\n",
       ".datatable .sp {  opacity: 0.25;}\n",
       ".datatable .footer { font-size: 9px; }\n",
       ".datatable .frame_dimensions {  background: var(--jp-border-color3);  border-top: 1px solid var(--jp-border-color0);  color: var(--jp-ui-font-color3);  display: inline-block;  opacity: 0.6;  padding: 1px 10px 1px 5px;}\n",
       "</style>\n"
      ],
      "text/plain": [
       "<IPython.core.display.HTML object>"
      ]
     },
     "metadata": {},
     "output_type": "display_data"
    }
   ],
   "source": [
    "from sklearn.metrics import r2_score as r2\n",
    "from xgboost import XGBRegressor\n",
    "from lightgbm import LGBMRegressor"
   ]
  },
  {
   "cell_type": "code",
   "execution_count": 34,
   "id": "331ece77",
   "metadata": {
    "execution": {
     "iopub.execute_input": "2022-02-23T06:03:12.414322Z",
     "iopub.status.busy": "2022-02-23T06:03:12.411932Z",
     "iopub.status.idle": "2022-02-23T06:03:12.429569Z",
     "shell.execute_reply": "2022-02-23T06:03:12.430107Z",
     "shell.execute_reply.started": "2022-02-13T16:54:38.026891Z"
    },
    "papermill": {
     "duration": 0.093509,
     "end_time": "2022-02-23T06:03:12.430278",
     "exception": false,
     "start_time": "2022-02-23T06:03:12.336769",
     "status": "completed"
    },
    "tags": []
   },
   "outputs": [],
   "source": [
    "from sklearn.model_selection import train_test_split\n",
    "X_train, X_valid, y_train, y_valid = train_test_split(X, y, test_size=0.2, random_state=42)"
   ]
  },
  {
   "cell_type": "code",
   "execution_count": 35,
   "id": "2f692098",
   "metadata": {
    "execution": {
     "iopub.execute_input": "2022-02-23T06:03:12.575213Z",
     "iopub.status.busy": "2022-02-23T06:03:12.574255Z",
     "iopub.status.idle": "2022-02-23T06:03:12.578028Z",
     "shell.execute_reply": "2022-02-23T06:03:12.578594Z",
     "shell.execute_reply.started": "2022-02-13T16:54:38.055458Z"
    },
    "papermill": {
     "duration": 0.077699,
     "end_time": "2022-02-23T06:03:12.578749",
     "exception": false,
     "start_time": "2022-02-23T06:03:12.501050",
     "status": "completed"
    },
    "tags": []
   },
   "outputs": [],
   "source": [
    "# for esti in range(800,2000,100):\n",
    "#     for lr in [0.02,0.05, 0.08, 0.2, 0.6, 0.8]:\n",
    "#         XGB = XGBRegressor(n_estimators= esti, learning_rate= lr, random_state=42)\n",
    "#         XGB.fit(X_train,y_train)\n",
    "#         y_train_PredictionXGB = XGB.predict(X_train)\n",
    "#         error_train =  r2(y_train, y_train_PredictionXGB)\n",
    "#         print(\"training score is : \" ,error_train,\"esti is:\",esti, \"lr is :\", lr)\n",
    "\n",
    "#         y_valid_PredictionXGB = XGB.predict(X_valid)\n",
    "#         y_valid_PredictionXGB = y_valid_PredictionXGB.astype(\"float64\")\n",
    "#         error_valid =  r2(y_valid, y_valid_PredictionXGB)\n",
    "#         print(\"validation score is :\",error_valid)"
   ]
  },
  {
   "cell_type": "code",
   "execution_count": 36,
   "id": "921e0c8c",
   "metadata": {
    "execution": {
     "iopub.execute_input": "2022-02-23T06:03:12.721957Z",
     "iopub.status.busy": "2022-02-23T06:03:12.720958Z",
     "iopub.status.idle": "2022-02-23T06:04:29.115280Z",
     "shell.execute_reply": "2022-02-23T06:04:29.115854Z",
     "shell.execute_reply.started": "2022-02-13T17:09:39.505269Z"
    },
    "papermill": {
     "duration": 76.467654,
     "end_time": "2022-02-23T06:04:29.116074",
     "exception": false,
     "start_time": "2022-02-23T06:03:12.648420",
     "status": "completed"
    },
    "tags": []
   },
   "outputs": [
    {
     "name": "stdout",
     "output_type": "stream",
     "text": [
      "training score is :  0.8452402817102539\n",
      "validation score is : 0.4225066628315072\n"
     ]
    }
   ],
   "source": [
    "XGB = XGBRegressor(n_estimators= 2600, learning_rate= 0.2, random_state=42)\n",
    "XGB.fit(X_train,y_train)\n",
    "y_train_PredictionXGB = XGB.predict(X_train)\n",
    "error_train =  r2(y_train, y_train_PredictionXGB)\n",
    "print(\"training score is : \" ,error_train)\n",
    "\n",
    "y_valid_PredictionXGB = XGB.predict(X_valid)\n",
    "y_valid_PredictionXGB = y_valid_PredictionXGB.astype(\"float64\")\n",
    "error_valid =  r2(y_valid, y_valid_PredictionXGB)\n",
    "print(\"validation score is :\",error_valid)"
   ]
  },
  {
   "cell_type": "markdown",
   "id": "902c0471",
   "metadata": {
    "papermill": {
     "duration": 0.070087,
     "end_time": "2022-02-23T06:04:29.258055",
     "exception": false,
     "start_time": "2022-02-23T06:04:29.187968",
     "status": "completed"
    },
    "tags": []
   },
   "source": [
    "XGB = XGBRegressor(n_estimators= 900, learning_rate= 0.3, random_state=0)\n",
    "training score is :  0.7403330991102582\n",
    "validation score is : 0.4098301114838582\n",
    "\n",
    "1500 0.2 --------------\n",
    "training score is :  0.7560923425639567\n",
    "validation score is : 0.41723775645105066"
   ]
  },
  {
   "cell_type": "code",
   "execution_count": 37,
   "id": "e83da17c",
   "metadata": {
    "execution": {
     "iopub.execute_input": "2022-02-23T06:04:29.402617Z",
     "iopub.status.busy": "2022-02-23T06:04:29.401044Z",
     "iopub.status.idle": "2022-02-23T06:04:29.405531Z",
     "shell.execute_reply": "2022-02-23T06:04:29.404974Z",
     "shell.execute_reply.started": "2022-02-13T16:55:31.823084Z"
    },
    "papermill": {
     "duration": 0.077714,
     "end_time": "2022-02-23T06:04:29.405667",
     "exception": false,
     "start_time": "2022-02-23T06:04:29.327953",
     "status": "completed"
    },
    "tags": []
   },
   "outputs": [],
   "source": [
    "# from sklearn.ensemble import RandomForestRegressor\n",
    "# from sklearn.datasets import make_regression\n",
    "# # X_test, y_test = make_regression(n_features=4, n_informative=2,\n",
    "# #                         random_state=0, shuffle=False)\n",
    "# RF = RandomForestRegressor(max_depth=10, random_state=0,n_estimators= 900)\n",
    "# RF.fit(X_train, y_train)\n",
    "# y_train_PredictionRF = RF.predict(X_train)\n",
    "# error_train_RF =  r2(y_train, y_train_PredictionRF)\n",
    "# print(\"training score is RF : \" ,error_train_RF)\n",
    "\n",
    "\n",
    "# y_valid_PredictionRF = RF.predict(X_valid)\n",
    "# error_valid_RF =  r2(y_valid, y_valid_PredictionRF)\n",
    "# print(\"validation score is :\",error_valid_RF)\n"
   ]
  },
  {
   "cell_type": "code",
   "execution_count": 38,
   "id": "b73a372f",
   "metadata": {
    "execution": {
     "iopub.execute_input": "2022-02-23T06:04:29.551332Z",
     "iopub.status.busy": "2022-02-23T06:04:29.550389Z",
     "iopub.status.idle": "2022-02-23T06:04:29.554336Z",
     "shell.execute_reply": "2022-02-23T06:04:29.554915Z",
     "shell.execute_reply.started": "2022-02-13T16:57:36.93151Z"
    },
    "papermill": {
     "duration": 0.078819,
     "end_time": "2022-02-23T06:04:29.555093",
     "exception": false,
     "start_time": "2022-02-23T06:04:29.476274",
     "status": "completed"
    },
    "tags": []
   },
   "outputs": [],
   "source": [
    "# LGM = LGBMRegressor(max_depth = 25,learning_rate = 0.1,n_estimators= 1500)\n",
    "# LGM.fit(X_train, y_train)\n",
    "# y_train_PredictionLGM = LGM.predict(X_train)\n",
    "# error_train_LGM =  r2(y_train, y_train_PredictionLGM)\n",
    "# print(\"training score is LGM : \" ,error_train_LGM)\n",
    "\n",
    "\n",
    "# y_valid_PredictionLGM = LGM.predict(X_valid)\n",
    "# error_valid_LGM =  r2(y_valid, y_valid_PredictionLGM)\n",
    "# print(\"validation score is LGM :\",error_valid_LGM)\n",
    "\n"
   ]
  },
  {
   "cell_type": "code",
   "execution_count": 39,
   "id": "5ed33462",
   "metadata": {
    "execution": {
     "iopub.execute_input": "2022-02-23T06:04:29.702345Z",
     "iopub.status.busy": "2022-02-23T06:04:29.701343Z",
     "iopub.status.idle": "2022-02-23T06:04:29.705071Z",
     "shell.execute_reply": "2022-02-23T06:04:29.705679Z",
     "shell.execute_reply.started": "2022-02-13T16:57:43.650352Z"
    },
    "papermill": {
     "duration": 0.078958,
     "end_time": "2022-02-23T06:04:29.705842",
     "exception": false,
     "start_time": "2022-02-23T06:04:29.626884",
     "status": "completed"
    },
    "tags": []
   },
   "outputs": [],
   "source": [
    "# from catboost import CatBoostRegressor\n",
    "# CAT = CatBoostRegressor(verbose=0, n_estimators=1500,learning_rate = 0.2)\n",
    "# CAT.fit(X_train, y_train)\n",
    "# y_train_PredictionCAT = CAT.predict(X_train)\n",
    "# error_train_CAT =  r2(y_train, y_train_PredictionCAT)\n",
    "# print(\"training score is CAT : \" ,error_train_CAT)\n",
    "\n",
    "\n",
    "# y_valid_PredictionCAT = CAT.predict(X_valid)\n",
    "# error_valid_CAT =  r2(y_valid, y_valid_PredictionCAT)\n",
    "# print(\"validation score is CAT :\",error_valid_CAT) "
   ]
  },
  {
   "cell_type": "code",
   "execution_count": 40,
   "id": "9fbb01fe",
   "metadata": {
    "execution": {
     "iopub.execute_input": "2022-02-23T06:04:29.851508Z",
     "iopub.status.busy": "2022-02-23T06:04:29.850496Z",
     "iopub.status.idle": "2022-02-23T06:04:29.854538Z",
     "shell.execute_reply": "2022-02-23T06:04:29.854986Z",
     "shell.execute_reply.started": "2022-02-13T16:59:38.196364Z"
    },
    "papermill": {
     "duration": 0.07845,
     "end_time": "2022-02-23T06:04:29.855181",
     "exception": false,
     "start_time": "2022-02-23T06:04:29.776731",
     "status": "completed"
    },
    "tags": []
   },
   "outputs": [],
   "source": [
    "# from sklearn.ensemble import GradientBoostingRegressor\n",
    "# GBR = GradientBoostingRegressor(max_depth=10, n_estimators=1000, learning_rate=0.2)\n",
    "# GBR.fit(X_train, y_train)\n",
    "# y_train_PredictionGBR = GBR.predict(X_train)\n",
    "# error_train_GBR =  r2(y_train, y_train_PredictionGBR)\n",
    "# print(\"training score is GBR : \" ,error_train_GBR)\n",
    "\n",
    "\n",
    "# y_valid_PredictionGBR = GBR.predict(X_valid)\n",
    "# error_valid_GBR =  r2(y_valid, y_valid_PredictionGBR)\n",
    "# print(\"validation score is GBR :\",error_valid_GBR)"
   ]
  },
  {
   "cell_type": "code",
   "execution_count": 41,
   "id": "5a21e94c",
   "metadata": {
    "execution": {
     "iopub.execute_input": "2022-02-23T06:04:30.004801Z",
     "iopub.status.busy": "2022-02-23T06:04:30.004089Z",
     "iopub.status.idle": "2022-02-23T06:04:30.037693Z",
     "shell.execute_reply": "2022-02-23T06:04:30.037054Z",
     "shell.execute_reply.started": "2022-02-13T17:17:13.823911Z"
    },
    "papermill": {
     "duration": 0.109719,
     "end_time": "2022-02-23T06:04:30.037842",
     "exception": false,
     "start_time": "2022-02-23T06:04:29.928123",
     "status": "completed"
    },
    "tags": []
   },
   "outputs": [
    {
     "data": {
      "text/html": [
       "<div>\n",
       "<style scoped>\n",
       "    .dataframe tbody tr th:only-of-type {\n",
       "        vertical-align: middle;\n",
       "    }\n",
       "\n",
       "    .dataframe tbody tr th {\n",
       "        vertical-align: top;\n",
       "    }\n",
       "\n",
       "    .dataframe thead th {\n",
       "        text-align: right;\n",
       "    }\n",
       "</style>\n",
       "<table border=\"1\" class=\"dataframe\">\n",
       "  <thead>\n",
       "    <tr style=\"text-align: right;\">\n",
       "      <th></th>\n",
       "      <th>row_id</th>\n",
       "      <th>user_id</th>\n",
       "      <th>category_id</th>\n",
       "      <th>video_id</th>\n",
       "      <th>age</th>\n",
       "      <th>gender</th>\n",
       "      <th>profession</th>\n",
       "      <th>followers</th>\n",
       "      <th>views</th>\n",
       "    </tr>\n",
       "  </thead>\n",
       "  <tbody>\n",
       "    <tr>\n",
       "      <th>0</th>\n",
       "      <td>89198</td>\n",
       "      <td>7986</td>\n",
       "      <td>12</td>\n",
       "      <td>42</td>\n",
       "      <td>14</td>\n",
       "      <td>Male</td>\n",
       "      <td>Student</td>\n",
       "      <td>180</td>\n",
       "      <td>138</td>\n",
       "    </tr>\n",
       "    <tr>\n",
       "      <th>1</th>\n",
       "      <td>89199</td>\n",
       "      <td>11278</td>\n",
       "      <td>34</td>\n",
       "      <td>115</td>\n",
       "      <td>14</td>\n",
       "      <td>Male</td>\n",
       "      <td>Student</td>\n",
       "      <td>230</td>\n",
       "      <td>840</td>\n",
       "    </tr>\n",
       "    <tr>\n",
       "      <th>2</th>\n",
       "      <td>89200</td>\n",
       "      <td>17245</td>\n",
       "      <td>8</td>\n",
       "      <td>110</td>\n",
       "      <td>44</td>\n",
       "      <td>Female</td>\n",
       "      <td>Working Professional</td>\n",
       "      <td>280</td>\n",
       "      <td>628</td>\n",
       "    </tr>\n",
       "    <tr>\n",
       "      <th>3</th>\n",
       "      <td>89201</td>\n",
       "      <td>9851</td>\n",
       "      <td>16</td>\n",
       "      <td>137</td>\n",
       "      <td>18</td>\n",
       "      <td>Male</td>\n",
       "      <td>Student</td>\n",
       "      <td>270</td>\n",
       "      <td>462</td>\n",
       "    </tr>\n",
       "    <tr>\n",
       "      <th>4</th>\n",
       "      <td>89202</td>\n",
       "      <td>16008</td>\n",
       "      <td>34</td>\n",
       "      <td>96</td>\n",
       "      <td>47</td>\n",
       "      <td>Female</td>\n",
       "      <td>Other</td>\n",
       "      <td>230</td>\n",
       "      <td>840</td>\n",
       "    </tr>\n",
       "  </tbody>\n",
       "</table>\n",
       "</div>"
      ],
      "text/plain": [
       "   row_id  user_id  category_id  video_id  age  gender            profession  \\\n",
       "0   89198     7986           12        42   14    Male               Student   \n",
       "1   89199    11278           34       115   14    Male               Student   \n",
       "2   89200    17245            8       110   44  Female  Working Professional   \n",
       "3   89201     9851           16       137   18    Male               Student   \n",
       "4   89202    16008           34        96   47  Female                 Other   \n",
       "\n",
       "   followers  views  \n",
       "0        180    138  \n",
       "1        230    840  \n",
       "2        280    628  \n",
       "3        270    462  \n",
       "4        230    840  "
      ]
     },
     "execution_count": 41,
     "metadata": {},
     "output_type": "execute_result"
    }
   ],
   "source": [
    "test_data = pd.read_csv(\"../input/engagement-score-prediction/test_1zqHu22.csv\")\n",
    "test_data.head()"
   ]
  },
  {
   "cell_type": "code",
   "execution_count": 42,
   "id": "11ad3dbe",
   "metadata": {
    "execution": {
     "iopub.execute_input": "2022-02-23T06:04:30.183336Z",
     "iopub.status.busy": "2022-02-23T06:04:30.182707Z",
     "iopub.status.idle": "2022-02-23T06:04:30.186869Z",
     "shell.execute_reply": "2022-02-23T06:04:30.187380Z",
     "shell.execute_reply.started": "2022-02-13T17:17:18.595394Z"
    },
    "papermill": {
     "duration": 0.079021,
     "end_time": "2022-02-23T06:04:30.187559",
     "exception": false,
     "start_time": "2022-02-23T06:04:30.108538",
     "status": "completed"
    },
    "tags": []
   },
   "outputs": [],
   "source": [
    "X = test_data.drop([\"row_id\"],axis=1)"
   ]
  },
  {
   "cell_type": "code",
   "execution_count": 43,
   "id": "437d3145",
   "metadata": {
    "execution": {
     "iopub.execute_input": "2022-02-23T06:04:30.332689Z",
     "iopub.status.busy": "2022-02-23T06:04:30.332050Z",
     "iopub.status.idle": "2022-02-23T06:04:30.342875Z",
     "shell.execute_reply": "2022-02-23T06:04:30.343355Z",
     "shell.execute_reply.started": "2022-02-13T17:17:21.056267Z"
    },
    "papermill": {
     "duration": 0.084543,
     "end_time": "2022-02-23T06:04:30.343517",
     "exception": false,
     "start_time": "2022-02-23T06:04:30.258974",
     "status": "completed"
    },
    "tags": []
   },
   "outputs": [
    {
     "data": {
      "text/html": [
       "<div>\n",
       "<style scoped>\n",
       "    .dataframe tbody tr th:only-of-type {\n",
       "        vertical-align: middle;\n",
       "    }\n",
       "\n",
       "    .dataframe tbody tr th {\n",
       "        vertical-align: top;\n",
       "    }\n",
       "\n",
       "    .dataframe thead th {\n",
       "        text-align: right;\n",
       "    }\n",
       "</style>\n",
       "<table border=\"1\" class=\"dataframe\">\n",
       "  <thead>\n",
       "    <tr style=\"text-align: right;\">\n",
       "      <th></th>\n",
       "      <th>user_id</th>\n",
       "      <th>category_id</th>\n",
       "      <th>video_id</th>\n",
       "      <th>age</th>\n",
       "      <th>gender</th>\n",
       "      <th>profession</th>\n",
       "      <th>followers</th>\n",
       "      <th>views</th>\n",
       "    </tr>\n",
       "  </thead>\n",
       "  <tbody>\n",
       "    <tr>\n",
       "      <th>0</th>\n",
       "      <td>7986</td>\n",
       "      <td>12</td>\n",
       "      <td>42</td>\n",
       "      <td>14</td>\n",
       "      <td>Male</td>\n",
       "      <td>Student</td>\n",
       "      <td>180</td>\n",
       "      <td>138</td>\n",
       "    </tr>\n",
       "    <tr>\n",
       "      <th>1</th>\n",
       "      <td>11278</td>\n",
       "      <td>34</td>\n",
       "      <td>115</td>\n",
       "      <td>14</td>\n",
       "      <td>Male</td>\n",
       "      <td>Student</td>\n",
       "      <td>230</td>\n",
       "      <td>840</td>\n",
       "    </tr>\n",
       "    <tr>\n",
       "      <th>2</th>\n",
       "      <td>17245</td>\n",
       "      <td>8</td>\n",
       "      <td>110</td>\n",
       "      <td>44</td>\n",
       "      <td>Female</td>\n",
       "      <td>Working Professional</td>\n",
       "      <td>280</td>\n",
       "      <td>628</td>\n",
       "    </tr>\n",
       "    <tr>\n",
       "      <th>3</th>\n",
       "      <td>9851</td>\n",
       "      <td>16</td>\n",
       "      <td>137</td>\n",
       "      <td>18</td>\n",
       "      <td>Male</td>\n",
       "      <td>Student</td>\n",
       "      <td>270</td>\n",
       "      <td>462</td>\n",
       "    </tr>\n",
       "    <tr>\n",
       "      <th>4</th>\n",
       "      <td>16008</td>\n",
       "      <td>34</td>\n",
       "      <td>96</td>\n",
       "      <td>47</td>\n",
       "      <td>Female</td>\n",
       "      <td>Other</td>\n",
       "      <td>230</td>\n",
       "      <td>840</td>\n",
       "    </tr>\n",
       "  </tbody>\n",
       "</table>\n",
       "</div>"
      ],
      "text/plain": [
       "   user_id  category_id  video_id  age  gender            profession  \\\n",
       "0     7986           12        42   14    Male               Student   \n",
       "1    11278           34       115   14    Male               Student   \n",
       "2    17245            8       110   44  Female  Working Professional   \n",
       "3     9851           16       137   18    Male               Student   \n",
       "4    16008           34        96   47  Female                 Other   \n",
       "\n",
       "   followers  views  \n",
       "0        180    138  \n",
       "1        230    840  \n",
       "2        280    628  \n",
       "3        270    462  \n",
       "4        230    840  "
      ]
     },
     "execution_count": 43,
     "metadata": {},
     "output_type": "execute_result"
    }
   ],
   "source": [
    "X.head()"
   ]
  },
  {
   "cell_type": "code",
   "execution_count": 44,
   "id": "2dcceebf",
   "metadata": {
    "execution": {
     "iopub.execute_input": "2022-02-23T06:04:30.490065Z",
     "iopub.status.busy": "2022-02-23T06:04:30.489087Z",
     "iopub.status.idle": "2022-02-23T06:04:30.506346Z",
     "shell.execute_reply": "2022-02-23T06:04:30.506796Z",
     "shell.execute_reply.started": "2022-02-13T17:17:24.581493Z"
    },
    "papermill": {
     "duration": 0.091788,
     "end_time": "2022-02-23T06:04:30.506963",
     "exception": false,
     "start_time": "2022-02-23T06:04:30.415175",
     "status": "completed"
    },
    "tags": []
   },
   "outputs": [
    {
     "data": {
      "text/html": [
       "<div>\n",
       "<style scoped>\n",
       "    .dataframe tbody tr th:only-of-type {\n",
       "        vertical-align: middle;\n",
       "    }\n",
       "\n",
       "    .dataframe tbody tr th {\n",
       "        vertical-align: top;\n",
       "    }\n",
       "\n",
       "    .dataframe thead th {\n",
       "        text-align: right;\n",
       "    }\n",
       "</style>\n",
       "<table border=\"1\" class=\"dataframe\">\n",
       "  <thead>\n",
       "    <tr style=\"text-align: right;\">\n",
       "      <th></th>\n",
       "      <th>user_id</th>\n",
       "      <th>category_id</th>\n",
       "      <th>video_id</th>\n",
       "      <th>age</th>\n",
       "      <th>profession</th>\n",
       "      <th>followers</th>\n",
       "      <th>views</th>\n",
       "      <th>gender_Female</th>\n",
       "    </tr>\n",
       "  </thead>\n",
       "  <tbody>\n",
       "    <tr>\n",
       "      <th>0</th>\n",
       "      <td>7986</td>\n",
       "      <td>12</td>\n",
       "      <td>42</td>\n",
       "      <td>14</td>\n",
       "      <td>Student</td>\n",
       "      <td>180</td>\n",
       "      <td>138</td>\n",
       "      <td>0</td>\n",
       "    </tr>\n",
       "    <tr>\n",
       "      <th>1</th>\n",
       "      <td>11278</td>\n",
       "      <td>34</td>\n",
       "      <td>115</td>\n",
       "      <td>14</td>\n",
       "      <td>Student</td>\n",
       "      <td>230</td>\n",
       "      <td>840</td>\n",
       "      <td>0</td>\n",
       "    </tr>\n",
       "    <tr>\n",
       "      <th>2</th>\n",
       "      <td>17245</td>\n",
       "      <td>8</td>\n",
       "      <td>110</td>\n",
       "      <td>44</td>\n",
       "      <td>Working Professional</td>\n",
       "      <td>280</td>\n",
       "      <td>628</td>\n",
       "      <td>1</td>\n",
       "    </tr>\n",
       "    <tr>\n",
       "      <th>3</th>\n",
       "      <td>9851</td>\n",
       "      <td>16</td>\n",
       "      <td>137</td>\n",
       "      <td>18</td>\n",
       "      <td>Student</td>\n",
       "      <td>270</td>\n",
       "      <td>462</td>\n",
       "      <td>0</td>\n",
       "    </tr>\n",
       "    <tr>\n",
       "      <th>4</th>\n",
       "      <td>16008</td>\n",
       "      <td>34</td>\n",
       "      <td>96</td>\n",
       "      <td>47</td>\n",
       "      <td>Other</td>\n",
       "      <td>230</td>\n",
       "      <td>840</td>\n",
       "      <td>1</td>\n",
       "    </tr>\n",
       "  </tbody>\n",
       "</table>\n",
       "</div>"
      ],
      "text/plain": [
       "   user_id  category_id  video_id  age            profession  followers  \\\n",
       "0     7986           12        42   14               Student        180   \n",
       "1    11278           34       115   14               Student        230   \n",
       "2    17245            8       110   44  Working Professional        280   \n",
       "3     9851           16       137   18               Student        270   \n",
       "4    16008           34        96   47                 Other        230   \n",
       "\n",
       "   views  gender_Female  \n",
       "0    138              0  \n",
       "1    840              0  \n",
       "2    628              1  \n",
       "3    462              0  \n",
       "4    840              1  "
      ]
     },
     "execution_count": 44,
     "metadata": {},
     "output_type": "execute_result"
    }
   ],
   "source": [
    "X = pd.get_dummies(X, columns = [\"gender\"])\n",
    "X = X.drop([\"gender_Male\"],axis=1)\n",
    "X.head()"
   ]
  },
  {
   "cell_type": "code",
   "execution_count": 45,
   "id": "c6ffd5e7",
   "metadata": {
    "execution": {
     "iopub.execute_input": "2022-02-23T06:04:30.659780Z",
     "iopub.status.busy": "2022-02-23T06:04:30.659079Z",
     "iopub.status.idle": "2022-02-23T06:04:30.671712Z",
     "shell.execute_reply": "2022-02-23T06:04:30.670953Z",
     "shell.execute_reply.started": "2022-02-13T17:17:26.712538Z"
    },
    "papermill": {
     "duration": 0.093143,
     "end_time": "2022-02-23T06:04:30.671853",
     "exception": false,
     "start_time": "2022-02-23T06:04:30.578710",
     "status": "completed"
    },
    "tags": []
   },
   "outputs": [
    {
     "data": {
      "text/html": [
       "<div>\n",
       "<style scoped>\n",
       "    .dataframe tbody tr th:only-of-type {\n",
       "        vertical-align: middle;\n",
       "    }\n",
       "\n",
       "    .dataframe tbody tr th {\n",
       "        vertical-align: top;\n",
       "    }\n",
       "\n",
       "    .dataframe thead th {\n",
       "        text-align: right;\n",
       "    }\n",
       "</style>\n",
       "<table border=\"1\" class=\"dataframe\">\n",
       "  <thead>\n",
       "    <tr style=\"text-align: right;\">\n",
       "      <th></th>\n",
       "      <th>user_id</th>\n",
       "      <th>category_id</th>\n",
       "      <th>video_id</th>\n",
       "      <th>age</th>\n",
       "      <th>followers</th>\n",
       "      <th>views</th>\n",
       "      <th>gender_Female</th>\n",
       "      <th>profession_Student</th>\n",
       "      <th>profession_Working Professional</th>\n",
       "    </tr>\n",
       "  </thead>\n",
       "  <tbody>\n",
       "    <tr>\n",
       "      <th>0</th>\n",
       "      <td>7986</td>\n",
       "      <td>12</td>\n",
       "      <td>42</td>\n",
       "      <td>14</td>\n",
       "      <td>180</td>\n",
       "      <td>138</td>\n",
       "      <td>0</td>\n",
       "      <td>1</td>\n",
       "      <td>0</td>\n",
       "    </tr>\n",
       "    <tr>\n",
       "      <th>1</th>\n",
       "      <td>11278</td>\n",
       "      <td>34</td>\n",
       "      <td>115</td>\n",
       "      <td>14</td>\n",
       "      <td>230</td>\n",
       "      <td>840</td>\n",
       "      <td>0</td>\n",
       "      <td>1</td>\n",
       "      <td>0</td>\n",
       "    </tr>\n",
       "    <tr>\n",
       "      <th>2</th>\n",
       "      <td>17245</td>\n",
       "      <td>8</td>\n",
       "      <td>110</td>\n",
       "      <td>44</td>\n",
       "      <td>280</td>\n",
       "      <td>628</td>\n",
       "      <td>1</td>\n",
       "      <td>0</td>\n",
       "      <td>1</td>\n",
       "    </tr>\n",
       "    <tr>\n",
       "      <th>3</th>\n",
       "      <td>9851</td>\n",
       "      <td>16</td>\n",
       "      <td>137</td>\n",
       "      <td>18</td>\n",
       "      <td>270</td>\n",
       "      <td>462</td>\n",
       "      <td>0</td>\n",
       "      <td>1</td>\n",
       "      <td>0</td>\n",
       "    </tr>\n",
       "    <tr>\n",
       "      <th>4</th>\n",
       "      <td>16008</td>\n",
       "      <td>34</td>\n",
       "      <td>96</td>\n",
       "      <td>47</td>\n",
       "      <td>230</td>\n",
       "      <td>840</td>\n",
       "      <td>1</td>\n",
       "      <td>0</td>\n",
       "      <td>0</td>\n",
       "    </tr>\n",
       "  </tbody>\n",
       "</table>\n",
       "</div>"
      ],
      "text/plain": [
       "   user_id  category_id  video_id  age  followers  views  gender_Female  \\\n",
       "0     7986           12        42   14        180    138              0   \n",
       "1    11278           34       115   14        230    840              0   \n",
       "2    17245            8       110   44        280    628              1   \n",
       "3     9851           16       137   18        270    462              0   \n",
       "4    16008           34        96   47        230    840              1   \n",
       "\n",
       "   profession_Student  profession_Working Professional  \n",
       "0                   1                                0  \n",
       "1                   1                                0  \n",
       "2                   0                                1  \n",
       "3                   1                                0  \n",
       "4                   0                                0  "
      ]
     },
     "execution_count": 45,
     "metadata": {},
     "output_type": "execute_result"
    }
   ],
   "source": [
    "X = pd.get_dummies(X, columns = [\"profession\"])\n",
    "X = X.drop([\"profession_Other\"],axis=1)\n",
    "X.head()"
   ]
  },
  {
   "cell_type": "code",
   "execution_count": 46,
   "id": "d40ece1f",
   "metadata": {
    "execution": {
     "iopub.execute_input": "2022-02-23T06:04:30.824614Z",
     "iopub.status.busy": "2022-02-23T06:04:30.823915Z",
     "iopub.status.idle": "2022-02-23T06:04:31.100743Z",
     "shell.execute_reply": "2022-02-23T06:04:31.101355Z",
     "shell.execute_reply.started": "2022-02-13T17:17:29.699397Z"
    },
    "papermill": {
     "duration": 0.354707,
     "end_time": "2022-02-23T06:04:31.101579",
     "exception": false,
     "start_time": "2022-02-23T06:04:30.746872",
     "status": "completed"
    },
    "tags": []
   },
   "outputs": [],
   "source": [
    "y_test = XGB.predict(X)"
   ]
  },
  {
   "cell_type": "code",
   "execution_count": 47,
   "id": "ee18a75a",
   "metadata": {
    "execution": {
     "iopub.execute_input": "2022-02-23T06:04:31.254254Z",
     "iopub.status.busy": "2022-02-23T06:04:31.253593Z",
     "iopub.status.idle": "2022-02-23T06:04:31.256416Z",
     "shell.execute_reply": "2022-02-23T06:04:31.255807Z",
     "shell.execute_reply.started": "2022-02-13T17:17:31.854956Z"
    },
    "papermill": {
     "duration": 0.080071,
     "end_time": "2022-02-23T06:04:31.256550",
     "exception": false,
     "start_time": "2022-02-23T06:04:31.176479",
     "status": "completed"
    },
    "tags": []
   },
   "outputs": [],
   "source": [
    "submission = pd.DataFrame()"
   ]
  },
  {
   "cell_type": "code",
   "execution_count": 48,
   "id": "87b38ee5",
   "metadata": {
    "execution": {
     "iopub.execute_input": "2022-02-23T06:04:31.405092Z",
     "iopub.status.busy": "2022-02-23T06:04:31.404414Z",
     "iopub.status.idle": "2022-02-23T06:04:31.411558Z",
     "shell.execute_reply": "2022-02-23T06:04:31.412064Z",
     "shell.execute_reply.started": "2022-02-13T17:17:34.474668Z"
    },
    "papermill": {
     "duration": 0.082872,
     "end_time": "2022-02-23T06:04:31.412225",
     "exception": false,
     "start_time": "2022-02-23T06:04:31.329353",
     "status": "completed"
    },
    "tags": []
   },
   "outputs": [],
   "source": [
    "submission[\"row_id\"] = test_data.row_id\n",
    "submission[\"engagement_score\"] = y_test"
   ]
  },
  {
   "cell_type": "code",
   "execution_count": 49,
   "id": "e4ef81bf",
   "metadata": {
    "execution": {
     "iopub.execute_input": "2022-02-23T06:04:31.561770Z",
     "iopub.status.busy": "2022-02-23T06:04:31.561124Z",
     "iopub.status.idle": "2022-02-23T06:04:31.569571Z",
     "shell.execute_reply": "2022-02-23T06:04:31.569012Z",
     "shell.execute_reply.started": "2022-02-13T17:17:37.387598Z"
    },
    "papermill": {
     "duration": 0.084846,
     "end_time": "2022-02-23T06:04:31.569719",
     "exception": false,
     "start_time": "2022-02-23T06:04:31.484873",
     "status": "completed"
    },
    "tags": []
   },
   "outputs": [
    {
     "data": {
      "text/html": [
       "<div>\n",
       "<style scoped>\n",
       "    .dataframe tbody tr th:only-of-type {\n",
       "        vertical-align: middle;\n",
       "    }\n",
       "\n",
       "    .dataframe tbody tr th {\n",
       "        vertical-align: top;\n",
       "    }\n",
       "\n",
       "    .dataframe thead th {\n",
       "        text-align: right;\n",
       "    }\n",
       "</style>\n",
       "<table border=\"1\" class=\"dataframe\">\n",
       "  <thead>\n",
       "    <tr style=\"text-align: right;\">\n",
       "      <th></th>\n",
       "      <th>row_id</th>\n",
       "      <th>engagement_score</th>\n",
       "    </tr>\n",
       "  </thead>\n",
       "  <tbody>\n",
       "    <tr>\n",
       "      <th>0</th>\n",
       "      <td>89198</td>\n",
       "      <td>4.115265</td>\n",
       "    </tr>\n",
       "    <tr>\n",
       "      <th>1</th>\n",
       "      <td>89199</td>\n",
       "      <td>3.621167</td>\n",
       "    </tr>\n",
       "    <tr>\n",
       "      <th>2</th>\n",
       "      <td>89200</td>\n",
       "      <td>2.811002</td>\n",
       "    </tr>\n",
       "    <tr>\n",
       "      <th>3</th>\n",
       "      <td>89201</td>\n",
       "      <td>2.961869</td>\n",
       "    </tr>\n",
       "    <tr>\n",
       "      <th>4</th>\n",
       "      <td>89202</td>\n",
       "      <td>2.006569</td>\n",
       "    </tr>\n",
       "  </tbody>\n",
       "</table>\n",
       "</div>"
      ],
      "text/plain": [
       "   row_id  engagement_score\n",
       "0   89198          4.115265\n",
       "1   89199          3.621167\n",
       "2   89200          2.811002\n",
       "3   89201          2.961869\n",
       "4   89202          2.006569"
      ]
     },
     "execution_count": 49,
     "metadata": {},
     "output_type": "execute_result"
    }
   ],
   "source": [
    "submission.head()"
   ]
  },
  {
   "cell_type": "code",
   "execution_count": 50,
   "id": "7c485936",
   "metadata": {
    "execution": {
     "iopub.execute_input": "2022-02-23T06:04:31.722955Z",
     "iopub.status.busy": "2022-02-23T06:04:31.721919Z",
     "iopub.status.idle": "2022-02-23T06:04:31.756066Z",
     "shell.execute_reply": "2022-02-23T06:04:31.756701Z",
     "shell.execute_reply.started": "2022-02-13T17:17:43.104456Z"
    },
    "papermill": {
     "duration": 0.113159,
     "end_time": "2022-02-23T06:04:31.756874",
     "exception": false,
     "start_time": "2022-02-23T06:04:31.643715",
     "status": "completed"
    },
    "tags": []
   },
   "outputs": [],
   "source": [
    "submission.to_csv('13Feb6sub.csv', index=False)"
   ]
  },
  {
   "cell_type": "code",
   "execution_count": null,
   "id": "146b06ee",
   "metadata": {
    "papermill": {
     "duration": 0.073611,
     "end_time": "2022-02-23T06:04:31.904615",
     "exception": false,
     "start_time": "2022-02-23T06:04:31.831004",
     "status": "completed"
    },
    "tags": []
   },
   "outputs": [],
   "source": []
  }
 ],
 "metadata": {
  "kernelspec": {
   "display_name": "Python 3",
   "language": "python",
   "name": "python3"
  },
  "language_info": {
   "codemirror_mode": {
    "name": "ipython",
    "version": 3
   },
   "file_extension": ".py",
   "mimetype": "text/x-python",
   "name": "python",
   "nbconvert_exporter": "python",
   "pygments_lexer": "ipython3",
   "version": "3.7.12"
  },
  "papermill": {
   "default_parameters": {},
   "duration": 102.927872,
   "end_time": "2022-02-23T06:04:32.788786",
   "environment_variables": {},
   "exception": null,
   "input_path": "__notebook__.ipynb",
   "output_path": "__notebook__.ipynb",
   "parameters": {},
   "start_time": "2022-02-23T06:02:49.860914",
   "version": "2.3.3"
  }
 },
 "nbformat": 4,
 "nbformat_minor": 5
}
